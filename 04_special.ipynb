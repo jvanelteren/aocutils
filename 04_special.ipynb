{
 "cells": [
  {
   "cell_type": "code",
   "execution_count": null,
   "metadata": {},
   "outputs": [],
   "source": [
    "#| default_exp specials\n",
    "from nbdev import *\n",
    "from nbdev.showdoc import *\n",
    "import networkx as nx"
   ]
  },
  {
   "cell_type": "markdown",
   "metadata": {},
   "source": [
    "## Specific algo's"
   ]
  },
  {
   "cell_type": "code",
   "execution_count": null,
   "metadata": {},
   "outputs": [],
   "source": [
    "#| export\n",
    "import hashlib\n",
    "from pathlib import Path\n",
    "import networkx as nx"
   ]
  },
  {
   "cell_type": "code",
   "execution_count": null,
   "metadata": {},
   "outputs": [],
   "source": [
    "#| export\n",
    "def md5(input):\n",
    "    return hashlib.md5(input.encode('utf-8')).hexdigest()\n"
   ]
  },
  {
   "cell_type": "code",
   "execution_count": null,
   "metadata": {},
   "outputs": [
    {
     "data": {
      "text/plain": [
       "'128ecf542a35ac5270a87dc740918404'"
      ]
     },
     "execution_count": null,
     "metadata": {},
     "output_type": "execute_result"
    }
   ],
   "source": [
    "md5('bla')"
   ]
  },
  {
   "cell_type": "code",
   "execution_count": null,
   "metadata": {},
   "outputs": [],
   "source": [
    "#| export\n",
    "\n",
    "def binarysearch(minim,maxim,function, flips_to_true=True): \n",
    "    \"\"\"\n",
    "     function needs to return a boolean whether the solution is ok\n",
    "     this implementation is for function that starts with false for minim and flip to true\n",
    "     for TTTTFFFF, pass set flips_to_true flag to false. This flag is important to set correct!\n",
    "    \"\"\"\n",
    "    new = minim\n",
    "    while True:\n",
    "        new = (minim+maxim)//2\n",
    "        print(f'to_test: {new}, min {minim}, max {maxim} ', end=' ')\n",
    "        res = function(new)\n",
    "        print('function returns', res)\n",
    "        if not flips_to_true: res = not res\n",
    "        if res:\n",
    "            if new == maxim: # solution found\n",
    "                if flips_to_true:\n",
    "                    print('solution found',new)\n",
    "                    return new\n",
    "                else:\n",
    "                    print('solution found',new-1)\n",
    "                    return new-1\n",
    "            maxim = new\n",
    "        else: minim = new+1\n"
   ]
  },
  {
   "cell_type": "code",
   "execution_count": null,
   "metadata": {},
   "outputs": [
    {
     "name": "stdout",
     "output_type": "stream",
     "text": [
      "to_test: 100, min 0, max 200  function returns True\n",
      "to_test: 50, min 0, max 100  function returns False\n",
      "to_test: 75, min 51, max 100  function returns True\n",
      "to_test: 63, min 51, max 75  function returns True\n",
      "to_test: 57, min 51, max 63  function returns True\n",
      "to_test: 54, min 51, max 57  function returns True\n",
      "to_test: 52, min 51, max 54  function returns True\n",
      "to_test: 51, min 51, max 52  function returns True\n",
      "to_test: 51, min 51, max 51  function returns True\n",
      "solution found 51\n"
     ]
    }
   ],
   "source": [
    "assert binarysearch(0,200, lambda x: x > 50) == 51"
   ]
  },
  {
   "cell_type": "code",
   "execution_count": null,
   "metadata": {},
   "outputs": [
    {
     "name": "stdout",
     "output_type": "stream",
     "text": [
      "to_test: 100, min 0, max 200  function returns False\n",
      "to_test: 50, min 0, max 100  function returns False\n",
      "to_test: 25, min 0, max 50  function returns True\n",
      "to_test: 38, min 26, max 50  function returns True\n",
      "to_test: 44, min 39, max 50  function returns True\n",
      "to_test: 47, min 45, max 50  function returns True\n",
      "to_test: 49, min 48, max 50  function returns True\n",
      "to_test: 50, min 50, max 50  function returns False\n",
      "solution found 49\n"
     ]
    }
   ],
   "source": [
    "assert binarysearch(0,200, lambda x: x < 50, flips_to_true=False) == 49"
   ]
  },
  {
   "cell_type": "code",
   "execution_count": null,
   "metadata": {},
   "outputs": [],
   "source": [
    "#| export\n",
    "def deduce_matches(input_dict, option_type=str):\n",
    "    \"\"\"\n",
    "    Takes a dict with multiple keys that have one or more options\n",
    "    The trick is to start with what you know: keys with one option and remove that option for the other keys\n",
    "    Continuing that process leads to every key ending up with one option (hopefully)\n",
    "\n",
    "    Assumes: the options are strings and sort in some kind of container\n",
    "    \"\"\"\n",
    "    found = 0\n",
    "    while found < len(input_dict):\n",
    "        for k, v in input_dict.items():\n",
    "            if not isinstance(v, option_type) and len(v) == 1: # found one\n",
    "                to_rem = v.pop()\n",
    "                input_dict[k] = to_rem\n",
    "                found += 1\n",
    "                for _ , v2 in input_dict.items(): # remove the item from other lists\n",
    "                    if not isinstance(v2, option_type) and to_rem in v2:\n",
    "                        v2.remove(to_rem)\n",
    "    return input_dict"
   ]
  },
  {
   "cell_type": "code",
   "execution_count": null,
   "metadata": {},
   "outputs": [],
   "source": [
    "#| export\n",
    "def find_pattern_in_iter(start_pattern, function, goal = None, n_iter=1000000000):\n",
    "    \"\"\"\n",
    "        Returns when a SPECIFIED pattern has been found from a function\n",
    "        If goal = None, then first time the start pattern shows up again is returned\n",
    "        Returns steps, pattern\n",
    "    \"\"\"\n",
    "    if not goal: goal = start_pattern\n",
    "    current = start_pattern\n",
    "    for i in range(1,n_iter):\n",
    "        current = function(current)\n",
    "        # print(current)\n",
    "        if current == goal:\n",
    "            print(f'At step {i}, goal: {current} was found')\n",
    "            return i, current"
   ]
  },
  {
   "cell_type": "code",
   "execution_count": null,
   "metadata": {},
   "outputs": [],
   "source": [
    "#| export\n",
    "def find_repeat(start_pattern, function, n_iter=None):\n",
    "    \"\"\"\n",
    "        Returns when a NONSPECFIED repeating pattern has been found\n",
    "        Returns steps, pattern\n",
    "    \"\"\"\n",
    "    if not n_iter: n_iter = round(10e20)\n",
    "    seen = {start_pattern}\n",
    "    current = start_pattern\n",
    "    for i in range(1,n_iter):\n",
    "        current = function(current)\n",
    "        # print(current)\n",
    "        if current in seen:\n",
    "            print(f'Repeat was found at step {i}. Pattern: {current}')\n",
    "            return i,current\n",
    "        seen.add(current)"
   ]
  },
  {
   "cell_type": "code",
   "execution_count": null,
   "metadata": {},
   "outputs": [],
   "source": [
    "#| export\n",
    "def find_cycle(start_pattern, function):\n",
    "    \"\"\"\n",
    "        Find cycle length of some repeating pattern, by first inspecting which item repeats when\n",
    "        And subtracting the time the item was first seen\n",
    "    \"\"\"\n",
    "    step_second, pattern = find_repeat(start_pattern, function)\n",
    "    step_first, pattern = find_pattern_in_iter(start_pattern, function, goal = pattern)\n",
    "    return step_second - step_first"
   ]
  },
  {
   "cell_type": "code",
   "execution_count": null,
   "metadata": {},
   "outputs": [],
   "source": [
    "#| hide\n",
    "class Test_gen():\n",
    "    def __init__(self):\n",
    "        self.results = iter([5,10,15,5,99,10])\n",
    "    def __call__(self,*args):\n",
    "        return next(self.results)\n",
    "\n"
   ]
  },
  {
   "cell_type": "code",
   "execution_count": null,
   "metadata": {},
   "outputs": [
    {
     "name": "stdout",
     "output_type": "stream",
     "text": [
      "found at step 5 99\n",
      "found at step 2 10\n",
      "found at step 1 5\n",
      "found at step 4 5\n"
     ]
    }
   ],
   "source": [
    "assert find_pattern_in_iter(99,Test_gen(),n_iter=10) == (5,99)\n",
    "assert find_pattern_in_iter(99,Test_gen(),goal=10, n_iter=10) == (2,10)\n",
    "assert find_pattern_in_iter(99,Test_gen(),goal=5, n_iter=10) == (1,5)\n",
    "assert find_repeat(99,Test_gen(),n_iter=10) == (4,5)"
   ]
  },
  {
   "cell_type": "code",
   "execution_count": null,
   "metadata": {},
   "outputs": [
    {
     "name": "stdout",
     "output_type": "stream",
     "text": [
      "Converted 00_core.ipynb.\n",
      "Converted 01_context_free_grammar.ipynb.\n",
      "Converted 02_norvig.ipynb.\n",
      "Converted index.ipynb.\n",
      "Converted 00_core.ipynb.\n",
      "Converted 01_context_free_grammar.ipynb.\n",
      "Converted 02_norvig.ipynb.\n",
      "Converted index.ipynb.\n",
      "converting: d:\\Documenten\\GitHub\\adventofcode\\aocutils\\00_core.ipynb\n",
      "converting: d:\\Documenten\\GitHub\\adventofcode\\aocutils\\01_context_free_grammar.ipynb\n",
      "converting: d:\\Documenten\\GitHub\\adventofcode\\aocutils\\02_norvig.ipynb\n",
      "converting: d:\\Documenten\\GitHub\\adventofcode\\aocutils\\index.ipynb\n",
      "converting d:\\Documenten\\GitHub\\adventofcode\\aocutils\\index.ipynb to README.md\n",
      "[main 47c0ec4] change future upwards\n",
      " 3 files changed, 14 insertions(+), 7 deletions(-)\n",
      "To https://github.com/jvanelteren/aocutils.git\n",
      "   68e7b8a..47c0ec4  main -> main\n"
     ]
    }
   ],
   "source": [
    "#| hide\n",
    "# from nbdev.export import notebook2script; \n",
    "# notebook2script()\n",
    "# !nbdev_build_lib\n",
    "# !nbdev_build_docs\n",
    "# !nbdev_clean_nbs\n",
    "# !git add .\n",
    "# !git commit -am \"change future upwards\"\n",
    "# !git push"
   ]
  },
  {
   "cell_type": "code",
   "execution_count": null,
   "metadata": {},
   "outputs": [],
   "source": []
  }
 ],
 "metadata": {
  "kernelspec": {
   "display_name": "Python 3.10.0 64-bit",
   "language": "python",
   "name": "python3"
  },
  "language_info": {
   "name": "python",
   "version": "3.10.0"
  },
  "vscode": {
   "interpreter": {
    "hash": "26de051ba29f2982a8de78e945f0abaf191376122a1563185a90213a26c5da77"
   }
  }
 },
 "nbformat": 4,
 "nbformat_minor": 2
}
