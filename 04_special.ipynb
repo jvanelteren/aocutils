{
 "cells": [
  {
   "cell_type": "code",
   "execution_count": null,
   "metadata": {},
   "outputs": [],
   "source": [
    "#| default_exp special\n",
    "from nbdev import *\n",
    "from nbdev.showdoc import *\n",
    "import networkx as nx"
   ]
  },
  {
   "cell_type": "markdown",
   "metadata": {},
   "source": [
    "# Specific algo's"
   ]
  },
  {
   "cell_type": "code",
   "execution_count": null,
   "metadata": {},
   "outputs": [],
   "source": [
    "#| exporti\n",
    "import hashlib\n",
    "from pathlib import Path\n",
    "import networkx as nx\n",
    "from collections import defaultdict\n",
    "from dataclasses import dataclass\n",
    "from aocutils.common import ints\n",
    "from collections import namedtuple\n",
    "import heapq"
   ]
  },
  {
   "cell_type": "code",
   "execution_count": null,
   "metadata": {},
   "outputs": [],
   "source": [
    "#| export\n",
    "def md5(input):\n",
    "    return hashlib.md5(input.encode('utf-8')).hexdigest()"
   ]
  },
  {
   "cell_type": "code",
   "execution_count": null,
   "metadata": {},
   "outputs": [
    {
     "data": {
      "text/plain": [
       "'128ecf542a35ac5270a87dc740918404'"
      ]
     },
     "execution_count": null,
     "metadata": {},
     "output_type": "execute_result"
    }
   ],
   "source": [
    "md5('bla')"
   ]
  },
  {
   "cell_type": "code",
   "execution_count": null,
   "metadata": {},
   "outputs": [],
   "source": [
    "#| export\n",
    "\n",
    "def binarysearch(minim,maxim,function, flips_to_true=True, verbose=True): \n",
    "    \"\"\"\n",
    "     function needs to return a boolean whether the solution is ok\n",
    "     this implementation is for function that starts with false for minim and flip to true\n",
    "     for TTTTFFFF, pass set flips_to_true flag to false. This flag is important to set correct!\n",
    "    \"\"\"\n",
    "    new = minim\n",
    "    while True:\n",
    "        new = (minim+maxim)//2\n",
    "        if verbose: print(f'to_test: {new}, min {minim}, max {maxim} ', end=' ')\n",
    "        res = function(new)\n",
    "        if verbose: print('function returns', res)\n",
    "        if not flips_to_true: res = not res\n",
    "        if res:\n",
    "            if new == maxim: # solution found\n",
    "                if flips_to_true:\n",
    "                    print('solution found',new)\n",
    "                    return new\n",
    "                else:\n",
    "                    print('solution found',new-1)\n",
    "                    return new-1\n",
    "            maxim = new\n",
    "        else: minim = new+1\n"
   ]
  },
  {
   "cell_type": "code",
   "execution_count": null,
   "metadata": {},
   "outputs": [
    {
     "name": "stdout",
     "output_type": "stream",
     "text": [
      "solution found 51\n",
      "solution found 49\n",
      "solution found 51\n",
      "solution found 49\n",
      "solution found 50\n",
      "solution found 50\n",
      "solution found 50\n",
      "solution found 50\n"
     ]
    }
   ],
   "source": [
    "assert binarysearch(0,200, lambda x: x > 50, verbose=False) == 51\n",
    "assert binarysearch(0,200, lambda x: x < 50, flips_to_true=False, verbose=False) == 49\n",
    "assert binarysearch(0,201, lambda x: x > 50, verbose=False) == 51\n",
    "assert binarysearch(0,201, lambda x: x < 50, flips_to_true=False, verbose=False) == 49\n",
    "assert binarysearch(0,200, lambda x: x >= 50, verbose=False) == 50\n",
    "assert binarysearch(0,200, lambda x: x <= 50, flips_to_true=False, verbose=False) == 50\n",
    "assert binarysearch(0,201, lambda x: x >= 50, verbose=False) == 50\n",
    "assert binarysearch(0,201, lambda x: x <= 50, flips_to_true=False, verbose=False) == 50"
   ]
  },
  {
   "cell_type": "code",
   "execution_count": null,
   "metadata": {},
   "outputs": [],
   "source": [
    "#| export\n",
    "def deduce_matches(input_dict):\n",
    "    \"\"\"\n",
    "    Takes a dict with multiple keys that have one or more options\n",
    "    The trick is to start with what you know: keys with one option and remove that option for the other keys\n",
    "    Continuing that process leads to every key ending up with one option (hopefully)\n",
    "    \"\"\"\n",
    "    \n",
    "    for v in input_dict.values():\n",
    "        # Checks the first element of iterable to infer the option type (e.g. string or tuple)\n",
    "        option_type = type(v[0])\n",
    "        break\n",
    "    \n",
    "    found = 0\n",
    "    while found < len(input_dict):\n",
    "        for k, v in input_dict.items():\n",
    "            if not isinstance(v, option_type) and len(v) == 1: # found one\n",
    "                to_rem = v.pop()\n",
    "                input_dict[k] = to_rem\n",
    "                found += 1\n",
    "                for _ , v2 in input_dict.items(): # remove the item from other lists\n",
    "                    if not isinstance(v2, option_type) and to_rem in v2:\n",
    "                        v2.remove(to_rem)\n",
    "    return input_dict"
   ]
  },
  {
   "cell_type": "code",
   "execution_count": null,
   "metadata": {},
   "outputs": [],
   "source": [
    "\n",
    "meals = {'morning': ['yoghurt', 'lasagna', 'pizza'],\n",
    "        'lunch': ['sandwich', 'lasagna'],\n",
    "        'evening': ['pizza', 'lasagna'],\n",
    "        'night': ['pizza']}\n",
    "\n",
    "answer = {'morning': 'yoghurt',\n",
    " 'lunch': 'sandwich',\n",
    " 'evening': 'lasagna',\n",
    " 'night': 'pizza'}\n",
    "assert deduce_matches(meals) == answer\n",
    "\n",
    "# now test with tuples instead of strings as option\n",
    "meals = {'morning': [('yoghurt',), ('lasagna',),('pizza',)],\n",
    "        'lunch': [('sandwich',), ('lasagna',)],\n",
    "        'evening': [('pizza',), ('lasagna',)],\n",
    "        'night': [('pizza',)]}\n",
    "assert deduce_matches(meals) == {k: tuple([v,]) for k, v in answer.items()}"
   ]
  },
  {
   "cell_type": "code",
   "execution_count": null,
   "metadata": {},
   "outputs": [],
   "source": [
    "#| export\n",
    "def find_specific_pattern(start_pattern, function, goal = None, n_iter=1000000000):\n",
    "    \"\"\"\n",
    "        Returns when a SPECIFIED pattern has been found from a function\n",
    "        If goal = None, then first time the start pattern shows up again is returned\n",
    "        Returns steps, pattern\n",
    "    \"\"\"\n",
    "    if not goal: goal = start_pattern\n",
    "    current = start_pattern\n",
    "    for i in range(1,n_iter):\n",
    "        current = function(current)\n",
    "        # print(current)\n",
    "        if current == goal:\n",
    "            print(f'At step {i}, goal: {current} was found')\n",
    "            return i"
   ]
  },
  {
   "cell_type": "code",
   "execution_count": null,
   "metadata": {},
   "outputs": [],
   "source": [
    "#| export\n",
    "def find_repeat(start_pattern, function, n_iter=None):\n",
    "    \"\"\"\n",
    "        Returns when a NONSPECFIED repeating pattern has been found\n",
    "        Returns steps, pattern\n",
    "    \"\"\"\n",
    "    if not n_iter: n_iter = round(10e20)\n",
    "    seen = {start_pattern}\n",
    "    current = start_pattern\n",
    "    for i in range(1,n_iter):\n",
    "        current = function(current)\n",
    "        # print(current)\n",
    "        if current in seen:\n",
    "            print(f'Repeat was found at step {i}. Pattern: {current} returning steps, pattern')\n",
    "            return i,current\n",
    "        seen.add(current)"
   ]
  },
  {
   "cell_type": "code",
   "execution_count": null,
   "metadata": {},
   "outputs": [],
   "source": [
    "#| export\n",
    "def find_cycle(start_pattern, function):\n",
    "    \"\"\"\n",
    "        Find cycle length of some repeating pattern, by first inspecting which item repeats when\n",
    "        And subtracting the time the item was first seen\n",
    "    \"\"\"\n",
    "    step_second, pattern = find_repeat(start_pattern, function)\n",
    "    step_first = find_specific_pattern(start_pattern, function, goal = pattern)\n",
    "    return step_second - step_first"
   ]
  },
  {
   "cell_type": "code",
   "execution_count": null,
   "metadata": {},
   "outputs": [],
   "source": [
    "#| hide\n",
    "class Test_gen():\n",
    "    def __init__(self):\n",
    "        self.results = iter([5,10,15,5,99,10])\n",
    "    def __call__(self,*args):\n",
    "        return next(self.results)\n",
    "\n"
   ]
  },
  {
   "cell_type": "code",
   "execution_count": null,
   "metadata": {},
   "outputs": [
    {
     "name": "stdout",
     "output_type": "stream",
     "text": [
      "At step 5, goal: 99 was found\n",
      "At step 2, goal: 10 was found\n",
      "At step 1, goal: 5 was found\n"
     ]
    }
   ],
   "source": [
    "assert find_specific_pattern(99,Test_gen()) == 5\n",
    "assert find_specific_pattern(99,Test_gen(),goal=10) == 2\n",
    "assert find_specific_pattern(99,Test_gen(),goal=5) == 1"
   ]
  },
  {
   "cell_type": "code",
   "execution_count": null,
   "metadata": {},
   "outputs": [
    {
     "name": "stdout",
     "output_type": "stream",
     "text": [
      "Repeat was found at step 8. Pattern: 0 returning steps, pattern\n"
     ]
    }
   ],
   "source": [
    "assert find_repeat(-1,lambda x: (x+1) % 7) == (8,0)"
   ]
  },
  {
   "cell_type": "code",
   "execution_count": null,
   "metadata": {},
   "outputs": [],
   "source": [
    "#| export\n",
    "\n",
    "class UnionFind():\n",
    "    # should have unique objects\n",
    "    def __init__(self, it):\n",
    "        self.parents = {obj:obj for obj in it}\n",
    "        self.sizes = {obj:1 for obj in it}\n",
    "        assert len(it) == len(self.parents), 'does your iterable contain duplicates?'\n",
    "        \n",
    "    def add(self, obj):\n",
    "        # add a new object after instantiation, returns False if object already in\n",
    "        if obj not in self.parents:\n",
    "            self.parents[obj] = obj\n",
    "            self.sizes[obj] = 1\n",
    "            return True\n",
    "        return False\n",
    "        \n",
    "    def get_parent(self, x):\n",
    "        # finding the parent of an object\n",
    "        while x != self.parents[x]:\n",
    "            parent = self.parents[x]\n",
    "            # path compression\n",
    "            self.parents[x] = self.parents[parent]\n",
    "            x = parent\n",
    "        return x\n",
    "        \n",
    "    def union(self,x,y):\n",
    "        # unions two objects, returns False if items have the same parent and are therefore already in the same group\n",
    "        for i in (x,y):\n",
    "            if i not in self.parents:\n",
    "                self.add(i)\n",
    "                \n",
    "        x,y  = self.get_parent(x), self.get_parent(y)\n",
    "        if x == y:\n",
    "            return False\n",
    "        if self.sizes[x] < self.sizes[y]:\n",
    "            # make sure that x is the largest group\n",
    "            x, y = y, x\n",
    "        self.parents[y] = x\n",
    "        self.sizes[x] += self.sizes[y]\n",
    "        self.sizes[y] = 0\n",
    "    \n",
    "    def groups(self):\n",
    "        # returns all linked objects in a list of lists\n",
    "        groups = defaultdict(list)\n",
    "        for i in self.parents:\n",
    "            groups[self.get_parent(i)].append(i)\n",
    "        return list(groups.values())\n",
    "\n",
    "    def is_spanning(self):\n",
    "        return len(self.groups()) == 1"
   ]
  },
  {
   "cell_type": "code",
   "execution_count": null,
   "metadata": {},
   "outputs": [
    {
     "data": {
      "text/plain": [
       "[[100, 101], [102], [103]]"
      ]
     },
     "execution_count": null,
     "metadata": {},
     "output_type": "execute_result"
    }
   ],
   "source": [
    "# tested above class on some leetcode problems: works!\n",
    "uf = UnionFind([100,101,102,103])\n",
    "uf.union(101,100)\n",
    "uf.groups()\n"
   ]
  },
  {
   "cell_type": "code",
   "execution_count": null,
   "metadata": {},
   "outputs": [],
   "source": [
    "#| export\n",
    "@dataclass\n",
    "class Octree():\n",
    "    # 2018 day 23. Takes a huge space and that can be recursively partitioned\n",
    "    left:int\n",
    "    right:int\n",
    "    up:int\n",
    "    leftrange:int\n",
    "    rightrange:int\n",
    "    uprange:int\n",
    "    totalhits:int=0\n",
    "    \n",
    "    def split(self):\n",
    "        midl = self.left + self.leftrange //2 + 1\n",
    "        midr = self.right + self.rightrange //2 + 1\n",
    "        midu = self.up + self.uprange // 2 + 1\n",
    "        for l in (self.left, midl):\n",
    "            for r in (self.right, midr):\n",
    "                for u in (self.up, midu):\n",
    "                    yield Octree(l,r,u,self.leftrange//2, self.rightrange//2, self.uprange//2)\n",
    "   \n",
    "    def hits(self, other):\n",
    "        # checks if Octree square is in range of a Robot (distance < power of robot)\n",
    "        dis = 0\n",
    "        dis += max(0, self.left - other.l, other.l - (self.left + self.leftrange))\n",
    "        dis += max(0, self.right - other.r, other.r - (self.right + self.rightrange))\n",
    "        dis += max(0, self.up - other.u, other.u - (self.up + self.uprange))\n",
    "        return dis <= other.p\n",
    "    \n",
    "    def count(self, others):\n",
    "        # expects an iterable of Robots\n",
    "        self.distance = (abs(self.left) + abs(self.right) + abs(self.up))\n",
    "        self.totalhits = -sum(self.hits(o) for o in others)\n",
    "    \n",
    "    def __gt__(self,other):\n",
    "        # compares itself to other Octrees. Better is more hits, smaller size and shorter distance from origin\n",
    "        return (self.totalhits, self.leftrange, self.distance) > (other.totalhits, other.leftrange, other.distance)\n",
    "    \n"
   ]
  },
  {
   "cell_type": "code",
   "execution_count": null,
   "metadata": {},
   "outputs": [],
   "source": [
    "Robot = namedtuple('Robot', 'l r u p')\n",
    "lines=open('recursivepartition.txt').read().splitlines()\n",
    "maxx = 0\n",
    "robots =[Robot(*ints(line)) for line in lines]\n",
    "maxx = max(max(r.r, r.l, r.u) + r.p for r in robots)\n",
    "size = 2\n",
    "while size < maxx:\n",
    "    size *= 2\n",
    "\n",
    "b = Octree(0,0,0,size,size,size)\n",
    "b.count(robots)\n",
    "queue = [b]\n",
    "\n",
    "while queue:\n",
    "    cur = heapq.heappop(queue)\n",
    "    if cur.leftrange == 0:\n",
    "        break\n",
    "    else:\n",
    "        for b in cur.split():\n",
    "            b.count(robots)\n",
    "            heapq.heappush(queue, b)\n",
    "assert cur.distance == 121493971"
   ]
  },
  {
   "cell_type": "code",
   "execution_count": null,
   "metadata": {},
   "outputs": [],
   "source": [
    "#| export\n",
    "\n",
    "class LazySegmentTree():\n",
    "    # based on https://leetcode.com/problems/my-calendar-iii/solution/\n",
    "    # lazy: the number of events covering all times in the range. As all numbers that belong to this range will be added by some increment, we don't have to propagate the base increment to every time in the interval, all we need to do is putting the number in this lazy field. \n",
    "    # We only update val by adding lazy when requested to query the max numbers of intervals in [L, R].\n",
    "    def __init__(self, left, right) -> None:\n",
    "        self.left, self.right = left, right # detailing the range of interest\n",
    "        self.idxs = defaultdict(int)\n",
    "        self.lazy = defaultdict(int)\n",
    "        \n",
    "    def add(self, start, end, l=None,r=None, idx=1):\n",
    "        if l == None:\n",
    "            l = self.left\n",
    "        if r == None:\n",
    "            r = self.right\n",
    "        if l > end or r < start:\n",
    "            return\n",
    "        elif l >= start and r <= end and l <=r:\n",
    "            self.idxs[idx] += 1\n",
    "            self.lazy[idx] += 1\n",
    "        else:\n",
    "            mid = (l + r) // 2\n",
    "            self.add(start, end, l, mid, idx*2)\n",
    "            self.add(start, end, mid+1, r, idx*2 + 1)\n",
    "            self.idxs[idx] = self.lazy.get(idx,0) + max((self.idxs.get(idx*2,0),self.idxs.get(idx*2+1,0)))\n",
    "            \n",
    "    def getbest(self):\n",
    "        return self.idxs[1]"
   ]
  },
  {
   "cell_type": "code",
   "execution_count": null,
   "metadata": {},
   "outputs": [],
   "source": [
    "l = LazySegmentTree(0,100)\n",
    "l.add(0,50)\n",
    "l.add(0,50)\n",
    "l.add(49,51)\n",
    "l.add(51,51)\n",
    "assert l.getbest() == 3\n"
   ]
  },
  {
   "cell_type": "code",
   "execution_count": null,
   "metadata": {},
   "outputs": [],
   "source": [
    "# | export\n",
    "def Trie():\n",
    "    return defaultdict(Trie)"
   ]
  }
 ],
 "metadata": {},
 "nbformat": 4,
 "nbformat_minor": 2
}
