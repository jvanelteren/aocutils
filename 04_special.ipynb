{
 "cells": [
  {
   "cell_type": "code",
   "execution_count": null,
   "metadata": {},
   "outputs": [],
   "source": [
    "#| default_exp special\n",
    "from nbdev import *\n",
    "from nbdev.showdoc import *\n",
    "import networkx as nx"
   ]
  },
  {
   "cell_type": "markdown",
   "metadata": {},
   "source": [
    "# Specific algo's"
   ]
  },
  {
   "cell_type": "code",
   "execution_count": null,
   "metadata": {},
   "outputs": [],
   "source": [
    "#| exporti\n",
    "import hashlib\n",
    "from pathlib import Path\n",
    "import networkx as nx\n",
    "from collections import defaultdict"
   ]
  },
  {
   "cell_type": "code",
   "execution_count": null,
   "metadata": {},
   "outputs": [],
   "source": [
    "#| export\n",
    "def md5(input):\n",
    "    return hashlib.md5(input.encode('utf-8')).hexdigest()"
   ]
  },
  {
   "cell_type": "code",
   "execution_count": null,
   "metadata": {},
   "outputs": [
    {
     "data": {
      "text/plain": [
       "'128ecf542a35ac5270a87dc740918404'"
      ]
     },
     "execution_count": null,
     "metadata": {},
     "output_type": "execute_result"
    }
   ],
   "source": [
    "md5('bla')"
   ]
  },
  {
   "cell_type": "code",
   "execution_count": null,
   "metadata": {},
   "outputs": [],
   "source": [
    "#| export\n",
    "\n",
    "def binarysearch(minim,maxim,function, flips_to_true=True, verbose=True): \n",
    "    \"\"\"\n",
    "     function needs to return a boolean whether the solution is ok\n",
    "     this implementation is for function that starts with false for minim and flip to true\n",
    "     for TTTTFFFF, pass set flips_to_true flag to false. This flag is important to set correct!\n",
    "    \"\"\"\n",
    "    new = minim\n",
    "    while True:\n",
    "        new = (minim+maxim)//2\n",
    "        if verbose: print(f'to_test: {new}, min {minim}, max {maxim} ', end=' ')\n",
    "        res = function(new)\n",
    "        if verbose: print('function returns', res)\n",
    "        if not flips_to_true: res = not res\n",
    "        if res:\n",
    "            if new == maxim: # solution found\n",
    "                if flips_to_true:\n",
    "                    print('solution found',new)\n",
    "                    return new\n",
    "                else:\n",
    "                    print('solution found',new-1)\n",
    "                    return new-1\n",
    "            maxim = new\n",
    "        else: minim = new+1\n"
   ]
  },
  {
   "cell_type": "code",
   "execution_count": null,
   "metadata": {},
   "outputs": [
    {
     "name": "stdout",
     "output_type": "stream",
     "text": [
      "solution found 51\n",
      "solution found 49\n",
      "solution found 51\n",
      "solution found 49\n",
      "solution found 50\n",
      "solution found 50\n",
      "solution found 50\n",
      "solution found 50\n"
     ]
    }
   ],
   "source": [
    "assert binarysearch(0,200, lambda x: x > 50, verbose=False) == 51\n",
    "assert binarysearch(0,200, lambda x: x < 50, flips_to_true=False, verbose=False) == 49\n",
    "assert binarysearch(0,201, lambda x: x > 50, verbose=False) == 51\n",
    "assert binarysearch(0,201, lambda x: x < 50, flips_to_true=False, verbose=False) == 49\n",
    "assert binarysearch(0,200, lambda x: x >= 50, verbose=False) == 50\n",
    "assert binarysearch(0,200, lambda x: x <= 50, flips_to_true=False, verbose=False) == 50\n",
    "assert binarysearch(0,201, lambda x: x >= 50, verbose=False) == 50\n",
    "assert binarysearch(0,201, lambda x: x <= 50, flips_to_true=False, verbose=False) == 50"
   ]
  },
  {
   "cell_type": "code",
   "execution_count": null,
   "metadata": {},
   "outputs": [],
   "source": [
    "#| export\n",
    "def deduce_matches(input_dict, option_type=str):\n",
    "    \"\"\"\n",
    "    Takes a dict with multiple keys that have one or more options\n",
    "    The trick is to start with what you know: keys with one option and remove that option for the other keys\n",
    "    Continuing that process leads to every key ending up with one option (hopefully)\n",
    "\n",
    "    Assumes: the options are strings and stored in an interable\n",
    "    \"\"\"\n",
    "    found = 0\n",
    "    while found < len(input_dict):\n",
    "        for k, v in input_dict.items():\n",
    "            if not isinstance(v, option_type) and len(v) == 1: # found one\n",
    "                to_rem = v.pop()\n",
    "                input_dict[k] = to_rem\n",
    "                found += 1\n",
    "                for _ , v2 in input_dict.items(): # remove the item from other lists\n",
    "                    if not isinstance(v2, option_type) and to_rem in v2:\n",
    "                        v2.remove(to_rem)\n",
    "    return input_dict"
   ]
  },
  {
   "cell_type": "code",
   "execution_count": null,
   "metadata": {},
   "outputs": [
    {
     "data": {
      "text/plain": [
       "{'morning': 'yoghurt',\n",
       " 'lunch': 'sandwich',\n",
       " 'evening': 'lasagna',\n",
       " 'night': 'pizza'}"
      ]
     },
     "execution_count": null,
     "metadata": {},
     "output_type": "execute_result"
    }
   ],
   "source": [
    "meals = {'morning': ['yoghurt', 'lasagna', 'pizza'],\n",
    "        'lunch': ['sandwich', 'lasagna'],\n",
    "        'evening': ['pizza', 'lasagna'],\n",
    "        'night': ['pizza']}\n",
    "deduce_matches(meals)"
   ]
  },
  {
   "cell_type": "code",
   "execution_count": null,
   "metadata": {},
   "outputs": [],
   "source": [
    "#| export\n",
    "def find_pattern_in_iter(start_pattern, function, goal = None, n_iter=1000000000):\n",
    "    \"\"\"\n",
    "        Returns when a SPECIFIED pattern has been found from a function\n",
    "        If goal = None, then first time the start pattern shows up again is returned\n",
    "        Returns steps, pattern\n",
    "    \"\"\"\n",
    "    if not goal: goal = start_pattern\n",
    "    current = start_pattern\n",
    "    for i in range(1,n_iter):\n",
    "        current = function(current)\n",
    "        # print(current)\n",
    "        if current == goal:\n",
    "            print(f'At step {i}, goal: {current} was found')\n",
    "            return i, current"
   ]
  },
  {
   "cell_type": "code",
   "execution_count": null,
   "metadata": {},
   "outputs": [],
   "source": [
    "#| export\n",
    "def find_repeat(start_pattern, function, n_iter=None):\n",
    "    \"\"\"\n",
    "        Returns when a NONSPECFIED repeating pattern has been found\n",
    "        Returns steps, pattern\n",
    "    \"\"\"\n",
    "    if not n_iter: n_iter = round(10e20)\n",
    "    seen = {start_pattern}\n",
    "    current = start_pattern\n",
    "    for i in range(1,n_iter):\n",
    "        current = function(current)\n",
    "        # print(current)\n",
    "        if current in seen:\n",
    "            print(f'Repeat was found at step {i}. Pattern: {current}')\n",
    "            return i,current\n",
    "        seen.add(current)"
   ]
  },
  {
   "cell_type": "code",
   "execution_count": null,
   "metadata": {},
   "outputs": [],
   "source": [
    "#| export\n",
    "def find_cycle(start_pattern, function):\n",
    "    \"\"\"\n",
    "        Find cycle length of some repeating pattern, by first inspecting which item repeats when\n",
    "        And subtracting the time the item was first seen\n",
    "    \"\"\"\n",
    "    step_second, pattern = find_repeat(start_pattern, function)\n",
    "    step_first, pattern = find_pattern_in_iter(start_pattern, function, goal = pattern)\n",
    "    return step_second - step_first"
   ]
  },
  {
   "cell_type": "code",
   "execution_count": null,
   "metadata": {},
   "outputs": [],
   "source": [
    "#| hide\n",
    "class Test_gen():\n",
    "    def __init__(self):\n",
    "        self.results = iter([5,10,15,5,99,10])\n",
    "    def __call__(self,*args):\n",
    "        return next(self.results)\n",
    "\n"
   ]
  },
  {
   "cell_type": "code",
   "execution_count": null,
   "metadata": {},
   "outputs": [
    {
     "name": "stdout",
     "output_type": "stream",
     "text": [
      "found at step 5 99\n",
      "found at step 2 10\n",
      "found at step 1 5\n",
      "found at step 4 5\n"
     ]
    }
   ],
   "source": [
    "assert find_pattern_in_iter(99,Test_gen(),n_iter=10) == (5,99)\n",
    "assert find_pattern_in_iter(99,Test_gen(),goal=10, n_iter=10) == (2,10)\n",
    "assert find_pattern_in_iter(99,Test_gen(),goal=5, n_iter=10) == (1,5)\n",
    "assert find_repeat(99,Test_gen(),n_iter=10) == (4,5)"
   ]
  },
  {
   "cell_type": "code",
   "execution_count": null,
   "metadata": {},
   "outputs": [],
   "source": [
    "class UnionFind():\n",
    "    # should have unique objects\n",
    "    def __init__(self, it):\n",
    "        self.parents = {obj:obj for obj in it}\n",
    "        self.sizes = {obj:1 for obj in it}\n",
    "        assert len(it) == len(self.parents), 'does your iterable contain duplicates?'\n",
    "        \n",
    "    def add(self, obj):\n",
    "        # add a new object after instantiation, returns False if object already in\n",
    "        if obj not in self.parents:\n",
    "            self.parents[obj] = obj\n",
    "            self.sizes[obj] = 1\n",
    "            return True\n",
    "        return False\n",
    "        \n",
    "    def _get_parent(self, x):\n",
    "        # finding the parent of an object\n",
    "        while x != self.parents[x]:\n",
    "            parent = self.parents[x]\n",
    "            # path compression\n",
    "            self.parents[x] = self.parents[parent]\n",
    "            x = parent\n",
    "        return x\n",
    "        \n",
    "    def union(self,x,y):\n",
    "        # unions two objects, returns False if items have the same parent and are therefore already in the same group\n",
    "        for i in (x,y):\n",
    "            if i not in self.parents:\n",
    "                self.add(i)\n",
    "                \n",
    "        x,y  = self._get_parent(x), self._get_parent(y)\n",
    "        if x == y:\n",
    "            return False\n",
    "        if self.sizes[x] < self.sizes[y]:\n",
    "            # make sure that x is the largest group\n",
    "            x, y = y, x\n",
    "        self.parents[y] = x\n",
    "        self.sizes[x] += self.sizes[y]\n",
    "        self.sizes[y] = 0\n",
    "    \n",
    "    def groups(self):\n",
    "        # returns all linked objects in a list of lists\n",
    "        groups = defaultdict(list)\n",
    "        for i in self.parents:\n",
    "            groups[self._get_parent(i)].append(i)\n",
    "        return list(groups.values())"
   ]
  },
  {
   "cell_type": "code",
   "execution_count": null,
   "metadata": {},
   "outputs": [
    {
     "data": {
      "text/plain": [
       "[[100, 101], [102], [103]]"
      ]
     },
     "execution_count": null,
     "metadata": {},
     "output_type": "execute_result"
    }
   ],
   "source": [
    "# tested above class on some leetcode problems: works!\n",
    "uf = UnionFind([100,101,102,103])\n",
    "uf.union(101,100)\n",
    "uf.groups()\n"
   ]
  }
 ],
 "metadata": {},
 "nbformat": 4,
 "nbformat_minor": 2
}
