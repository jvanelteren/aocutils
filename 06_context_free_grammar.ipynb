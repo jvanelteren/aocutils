{
 "cells": [
  {
   "cell_type": "code",
   "execution_count": null,
   "metadata": {},
   "outputs": [],
   "source": [
    "#| default_exp special\n",
    "from nbdev import *\n",
    "from nbdev.showdoc import *"
   ]
  },
  {
   "cell_type": "markdown",
   "metadata": {},
   "source": [
    "# Context free grammar\n",
    "\n",
    "> Takes a grammar, converts it into Chomsky Normal Form (CNF)"
   ]
  },
  {
   "cell_type": "code",
   "execution_count": null,
   "metadata": {},
   "outputs": [],
   "source": [
    "#| exporti\n",
    "from collections import defaultdict\n",
    "from itertools import product"
   ]
  },
  {
   "cell_type": "code",
   "execution_count": null,
   "metadata": {},
   "outputs": [],
   "source": [
    "#| export\n",
    "\n",
    "class CFG():\n",
    "    \"\"\"Takes a grammer as dict with tuple of options as values. Terminal values should not be in a tuple but as a string\n",
    "    Usage:\n",
    "        cfg = CFG(grammar_dict)\n",
    "            reverse as optional parameter when k,v are reversed\n",
    "            converts the grammar to Chomsky Normal form by taking care of options, unit productions and triplets\n",
    "        cfg.solve(messages_list) returns dict of substrings with possible rules to make them\n",
    "    \"\"\"\n",
    "    def __init__(self, grammar = None, reverse = True):\n",
    "        self.outcomes = defaultdict(set)\n",
    "        if grammar:\n",
    "            # convert grammar to CNF and add terminals to outcomes\n",
    "            self.grammar = self.grammar_to_cnf(grammar, reverse)\n",
    "            self.outcomes.update({k:v for k,v in self.grammar.items() if isinstance(k, str)})\n",
    "\n",
    "\n",
    "    def grammar_to_cnf(self, grammar, reverse):\n",
    "        grammar = self.to_cnf_remove_options(grammar, reverse)\n",
    "        grammar = self.to_cnf_remove_triplets(grammar)\n",
    "        return self.to_cnf_remove_unit_productions(grammar)\n",
    "\n",
    "    def to_cnf_remove_options(self, grammar, reverse):\n",
    "        # if reverse change from X : AB to AB : {X}\n",
    "        # if there are options, these are given a separate entry, e.g.\n",
    "        # X : (AB, CD) --> X: AB and X: CD\n",
    "        new_grammar = defaultdict(set)\n",
    "        if reverse:\n",
    "            for k,v in grammar.items():\n",
    "                for option in v:\n",
    "                    new_grammar[option].add(k)\n",
    "        else:\n",
    "            for k,v in grammar.items():\n",
    "                for option in k:\n",
    "                    new_grammar[option].add(v)\n",
    "        return new_grammar\n",
    "        \n",
    "    def to_cnf_remove_triplets(self, grammar):\n",
    "        # reduces triplets or larger to pairs\n",
    "        # changes X : ABC to\n",
    "        # X: AY, Y = BC\n",
    "        new_grammar = defaultdict(set)\n",
    "        for k,v in grammar.items():\n",
    "            if len(k) > 2:\n",
    "                for i, t in enumerate(k[0:-2]):\n",
    "                    newvar = str(v) + '_' + str(i)\n",
    "                    oldvar = str(v) + '_' + str(i-1)\n",
    "                    if i == 0:\n",
    "                        new_grammar[t,newvar] = v\n",
    "                    else:\n",
    "                        new_grammar[t,newvar] = {oldvar}\n",
    "                new_grammar[k[-2:]].add(newvar)\n",
    "            else:\n",
    "                new_grammar[k] |= v\n",
    "        return new_grammar\n",
    "           \n",
    "    \n",
    "    def to_cnf_remove_unit_productions(self,grammar):\n",
    "        # step to get to Chomsky Normal Form\n",
    "        # if X : A, duplicate all A : Y with X : Y\n",
    "        singulars = {k[0]:next(iter(v)) for k,v in grammar.items() if len(k)!=2 and not isinstance(k,str)}\n",
    "        for k,v in singulars.items():\n",
    "            for j in grammar.values():\n",
    "                if k in j:\n",
    "                    j.add(v)\n",
    "        return grammar\n",
    "\n",
    "    def pieces(self, test,l):\n",
    "        # gets all possibilities of len l out of a string\n",
    "        assert isinstance(test, str)\n",
    "        return {test[i:i+l] for i in range(len(test)-l+1) if test[i:i+l] not in self.outcomes}\n",
    "\n",
    "    def splitter(self,option):\n",
    "        # splits string into all options of two substrings\n",
    "        assert isinstance(option, str)\n",
    "        return {(option[:i], option[i:]) for i in range(1,len(option))}\n",
    "\n",
    "    def check_possible_option(self, option):\n",
    "        first = self.outcomes[option[0]]\n",
    "        second = self.outcomes[option[1]]\n",
    "        res = set()\n",
    "        for potential in product(first,second):\n",
    "            if potential in self.grammar: res |= self.grammar[potential]\n",
    "        return res\n",
    "\n",
    "    def solve(self, messages):\n",
    "        # takes a list of messages and returns all possibilities for the substrings of m\n",
    "        for num, m in enumerate(messages):\n",
    "            if num % 100 == 0: print(num*10, 'messages done')\n",
    "            for i in range(2,len(m)+1):\n",
    "                for j in self.pieces(m, i):\n",
    "                    for k in self.splitter(j):\n",
    "                        res = self.check_possible_option(k)\n",
    "                        if res:\n",
    "                            self.outcomes[j] |= res\n",
    "        print('finished all messages, returning dict')\n",
    "        return self.outcomes\n",
    "          \n",
    "\n"
   ]
  },
  {
   "cell_type": "code",
   "execution_count": null,
   "metadata": {},
   "outputs": [
    {
     "data": {
      "text/markdown": [
       "<h4 id=\"CFG.to_cnf_remove_options\" class=\"doc_header\"><code>CFG.to_cnf_remove_options</code><a href=\"__main__.py#L24\" class=\"source_link\" style=\"float:right\">[source]</a></h4>\n",
       "\n",
       "> <code>CFG.to_cnf_remove_options</code>(**`grammar`**, **`reverse`**)\n",
       "\n"
      ],
      "text/plain": [
       "<IPython.core.display.Markdown object>"
      ]
     },
     "metadata": {},
     "output_type": "display_data"
    },
    {
     "data": {
      "text/markdown": [
       "<h4 id=\"CFG.solve\" class=\"doc_header\"><code>CFG.solve</code><a href=\"__main__.py#L87\" class=\"source_link\" style=\"float:right\">[source]</a></h4>\n",
       "\n",
       "> <code>CFG.solve</code>(**`messages`**)\n",
       "\n"
      ],
      "text/plain": [
       "<IPython.core.display.Markdown object>"
      ]
     },
     "metadata": {},
     "output_type": "display_data"
    },
    {
     "data": {
      "text/markdown": [
       "<h4 id=\"CFG.pieces\" class=\"doc_header\"><code>CFG.pieces</code><a href=\"__main__.py#L69\" class=\"source_link\" style=\"float:right\">[source]</a></h4>\n",
       "\n",
       "> <code>CFG.pieces</code>(**`test`**, **`l`**)\n",
       "\n"
      ],
      "text/plain": [
       "<IPython.core.display.Markdown object>"
      ]
     },
     "metadata": {},
     "output_type": "display_data"
    }
   ],
   "source": [
    "#|echo: false\n",
    "show_doc(CFG.to_cnf_remove_options)\n",
    "show_doc(CFG.solve)\n",
    "show_doc(CFG.pieces)"
   ]
  },
  {
   "cell_type": "code",
   "execution_count": null,
   "metadata": {},
   "outputs": [],
   "source": [
    "cfg = CFG()\n",
    "assert cfg.pieces('abcde',3) == {'abc', 'bcd', 'cde'}\n",
    "assert cfg.splitter('abcd') == {('a', 'bcd'), ('ab', 'cd'), ('abc', 'd')}"
   ]
  },
  {
   "cell_type": "code",
   "execution_count": null,
   "metadata": {},
   "outputs": [
    {
     "name": "stdout",
     "output_type": "stream",
     "text": [
      "0 messages done\n",
      "finished all messages, returning dict\n"
     ]
    },
    {
     "data": {
      "text/plain": [
       "0"
      ]
     },
     "execution_count": null,
     "metadata": {},
     "output_type": "execute_result"
    }
   ],
   "source": [
    "grammar = {'0': (('4', '1', '5'),),\n",
    " '1': (('2', '3'), ('3', '2')),\n",
    " '2': (('4', '4'), ('5', '5')),\n",
    " '3': (('4', '5'), ('5', '4')),\n",
    " '4': ('a',),\n",
    " '5': ('b',)}\n",
    "\n",
    "messages = ['ababbb', 'bababa', 'abbbab', 'aaabbb', 'aaaabbb']\n",
    "cfg = CFG(grammar)\n",
    "out = cfg.solve(messages)\n",
    "assert sum([1 for m in messages if (m in out) and ('0' in out[m])]) == 2"
   ]
  },
  {
   "cell_type": "code",
   "execution_count": null,
   "metadata": {},
   "outputs": [
    {
     "data": {
      "text/plain": [
       "dict_values([{'0'}, {\"{'0'}_0\"}, {'1'}, {'1'}, {'2'}, {'2'}, {'3'}, {'3'}, {'4'}, {'5'}])"
      ]
     },
     "execution_count": null,
     "metadata": {},
     "output_type": "execute_result"
    }
   ],
   "source": [
    "cfg.grammar.values()"
   ]
  },
  {
   "cell_type": "code",
   "execution_count": null,
   "metadata": {},
   "outputs": [
    {
     "name": "stdout",
     "output_type": "stream",
     "text": [
      "0 messages done\n",
      "1000 messages done\n",
      "2000 messages done\n",
      "3000 messages done\n",
      "finished all messages, returning dict\n"
     ]
    }
   ],
   "source": [
    "rules, messages = open('test.txt').read().split('\\n\\n')\n",
    "grammar = {}\n",
    "for rule in rules.split('\\n'):\n",
    "    num, makefrom = rule.split(': ')\n",
    "    makefrom = makefrom.split(' | ')\n",
    "    if len(makefrom) > 1:\n",
    "        grammar[num] = tuple([tuple(option.split()) for option in makefrom])\n",
    "    else:\n",
    "        grammar[num] = tuple(makefrom[0].split())\n",
    "    \n",
    "\n",
    "for k, v in grammar.items():\n",
    "    if 'a' in v[0]:\n",
    "        grammar[k] = 'a',\n",
    "        \n",
    "        \n",
    "    if 'b' in v[0]:\n",
    "        grammar[k] = 'b',\n",
    "\n",
    "messages = messages.split('\\n')\n",
    "cfg = CFG(grammar)\n",
    "res = cfg.solve(messages)"
   ]
  },
  {
   "cell_type": "code",
   "execution_count": null,
   "metadata": {},
   "outputs": [],
   "source": []
  }
 ],
 "metadata": {},
 "nbformat": 4,
 "nbformat_minor": 2
}
