{
 "cells": [
  {
   "cell_type": "code",
   "execution_count": null,
   "metadata": {},
   "outputs": [],
   "source": [
    "#| default_exp grid\n",
    "from nbdev import *\n",
    "from nbdev.showdoc import *"
   ]
  },
  {
   "cell_type": "markdown",
   "metadata": {},
   "source": [
    "# Grid helpers\n",
    "> A collection of somewhat handy functions to make your AoC puzzle life solving a bit easier"
   ]
  },
  {
   "cell_type": "code",
   "execution_count": null,
   "metadata": {},
   "outputs": [],
   "source": [
    "#| exporti\n",
    "from collections import namedtuple\n",
    "import numpy as np"
   ]
  },
  {
   "cell_type": "code",
   "execution_count": null,
   "metadata": {},
   "outputs": [],
   "source": [
    "# | export\n",
    "\n",
    "def gridneigh(filename, to_dict = True, diag=False, inc_self=False, parser=None):\n",
    "    \"\"\"\n",
    "    Example to parse a simple grid consisting of ints\n",
    "    When parser is None, characters will be parsed\n",
    "    --------\n",
    "    >>> grid, neigh = gridneigh('input.txt', parser=lambda x: [int(ch) for ch in x.split(',')])\n",
    "    \"\"\"\n",
    "\n",
    "    if not parser:\n",
    "        arr = [list(line) for line in open(filename, 'r').read().split('\\n')]\n",
    "    else:\n",
    "        arr = [parser(line) for line in open(filename, 'r').read().split('\\n')]\n",
    "    neigh = arr_neighbors(arr,diag, inc_self)\n",
    "    if to_dict:\n",
    "        arr = arr_to_dict(arr)\n",
    "    return arr, neigh\n",
    "    \n",
    "    "
   ]
  },
  {
   "cell_type": "code",
   "execution_count": null,
   "metadata": {},
   "outputs": [],
   "source": [
    "#| export\n",
    "\n",
    "def arr_to_dict(arr) -> dict: # numpy array or list of lists (tuple of tuples) \n",
    "    \"\"\" \n",
    "    Example\n",
    "    --------\n",
    "    >>>arr_to_dict([['a','b'],['c','#']])\n",
    "    {(0, 0): 'a', (0, 1): 'b', (1, 0): 'c', (1, 1): '#'}\n",
    "    \"\"\"\n",
    "    d = {}\n",
    "    if isinstance(arr, str):\n",
    "        raise TypeError(\"only works with list of lists or np.ndarray. Use grid_to_dict if input is a string grid\")\n",
    "    for i in range(len(arr)):\n",
    "        for j in range(len(arr[0])):\n",
    "            d[(i,j)] = arr[i][j]\n",
    "    return d\n"
   ]
  },
  {
   "cell_type": "code",
   "execution_count": null,
   "metadata": {},
   "outputs": [],
   "source": [
    "assert arr_to_dict([[1,2,3]]) == {(0, 0): 1, (0, 1): 2, (0, 2): 3}\n",
    "assert arr_to_dict([[1,2], [3,4]]) == {(0, 0): 1, (0, 1): 2, (1, 0): 3, (1, 1): 4}\n",
    "assert arr_to_dict(((1,2), (3,4))) == {(0, 0): 1, (0, 1): 2, (1, 0): 3, (1, 1): 4}\n",
    "assert arr_to_dict([['a','b'],['c','#']]) == {(0, 0): 'a', (0, 1): 'b', (1, 0): 'c', (1, 1): '#'}"
   ]
  },
  {
   "cell_type": "code",
   "execution_count": null,
   "metadata": {},
   "outputs": [
    {
     "data": {
      "text/plain": [
       "{(0, 0): 1, (0, 1): 2, (0, 2): 3}"
      ]
     },
     "execution_count": null,
     "metadata": {},
     "output_type": "execute_result"
    }
   ],
   "source": [
    "#| export\n",
    "def grid_to_dict(grid):\n",
    "    if isinstance(grid, str):\n",
    "        grid = [list(line) for line in grid.split('\\n')]\n",
    "    return arr_to_dict(grid)\n",
    "    # return {(r,c): val for r, row in enumerate(grid) for c, val in enumerate(row)}\n",
    "grid_to_dict([[1,2,3]])"
   ]
  },
  {
   "cell_type": "code",
   "execution_count": null,
   "metadata": {},
   "outputs": [],
   "source": [
    "assert grid_to_dict([[1,2,3],[4,5,6]]) == {(0, 0): 1, (0, 1): 2, (0, 2): 3, (1, 0): 4, (1, 1): 5, (1, 2): 6}\n",
    "assert grid_to_dict('1r3\\n456') == {(0, 0): '1', (0, 1): 'r', (0, 2): '3', (1, 0): '4', (1, 1): '5', (1, 2): '6'}"
   ]
  },
  {
   "cell_type": "code",
   "execution_count": null,
   "metadata": {},
   "outputs": [],
   "source": [
    "#| export\n",
    "def neighbors(i, diag = False,inc_self=False):\n",
    "    \"\"\"\n",
    "     determine the neighbors, returns a set with neighboring tuples {(0,1)}\n",
    "     if inc_self: returns self in results\n",
    "     if diag: return diagonal moves as well\n",
    "    \"\"\"\n",
    "    r = [-1,0,1]\n",
    "    c = [-1,0,1]\n",
    "    if diag:\n",
    "        if inc_self: \n",
    "            return {(i[0]+dr, i[1]+dc) for dr in r for dc in c}\n",
    "        else: \n",
    "            return {(i[0]+dr, i[1]+dc) for dr in r for dc in c if not (dr == 0 and dc == 0)}\n",
    "    else:\n",
    "        res =  {(i[0],i[1]+1), (i[0],i[1]-1),(i[0]+1,i[1]),(i[0]-1,i[1])}\n",
    "        if inc_self: res.add(i)\n",
    "        return res"
   ]
  },
  {
   "cell_type": "code",
   "execution_count": null,
   "metadata": {},
   "outputs": [],
   "source": [
    "# 4 and 5 tuples\n",
    "assert neighbors((0,0), inc_self=False, diag=False) == {(0, 1), (0, -1), (1, 0), (-1, 0)}\n",
    "assert neighbors((0,0), inc_self=True, diag=False) == {(0, 1), (0, -1), (1, 0), (-1, 0), (0, 0)}\n",
    "# # 8 and 9 tuples\n",
    "assert neighbors((0,0), inc_self=False, diag=True) == {(-1, -1), (-1, 0), (-1, 1), (0, -1), (0, 1), (1, -1), (1, 0), (1, 1)}\n",
    "assert neighbors((0,0), inc_self=True, diag=True) == {(1, 1), (1, -1), (1, 0), (0, 1), (0, -1), (0, 0), (-1, 1), (-1, -1), (-1, 0)}\n"
   ]
  },
  {
   "cell_type": "code",
   "execution_count": null,
   "metadata": {},
   "outputs": [],
   "source": [
    "#| export\n",
    "def arr_neighbors(arr, diag=False, inc_self=False):\n",
    "    \"\"\"\n",
    "    Returns a dictionary with index: set of neighbor indices\n",
    "    Parameters: diag to include diagonal neighbors, inc_self to include self in result list\n",
    "    Usage: for index, neighbor_indices in aoc.arr_neighbors(arr).items():\n",
    "    \"\"\"\n",
    "    if not isinstance(arr, np.ndarray):\n",
    "        arr = np.array(arr)\n",
    "    res = {}\n",
    "    for i in np.ndindex(arr.shape):\n",
    "        # print('hi',i, neighbors(i,diag))\n",
    "        res[i] = {(x,y) for x,y in neighbors(i,diag, inc_self) if 0<=x<arr.shape[0] and 0<=y<arr.shape[1]}\n",
    "    return res\n"
   ]
  },
  {
   "cell_type": "code",
   "execution_count": null,
   "metadata": {},
   "outputs": [
    {
     "name": "stdout",
     "output_type": "stream",
     "text": [
      "[[0 1 2]\n",
      " [3 4 5]\n",
      " [6 7 8]]\n"
     ]
    },
    {
     "data": {
      "text/plain": [
       "{(0, 0): {(0, 1), (1, 0)},\n",
       " (0, 1): {(0, 0), (0, 2), (1, 1)},\n",
       " (0, 2): {(0, 1), (1, 2)},\n",
       " (1, 0): {(0, 0), (1, 1), (2, 0)},\n",
       " (1, 1): {(0, 1), (1, 0), (1, 2), (2, 1)},\n",
       " (1, 2): {(0, 2), (1, 1), (2, 2)},\n",
       " (2, 0): {(1, 0), (2, 1)},\n",
       " (2, 1): {(1, 1), (2, 0), (2, 2)},\n",
       " (2, 2): {(1, 2), (2, 1)}}"
      ]
     },
     "execution_count": null,
     "metadata": {},
     "output_type": "execute_result"
    }
   ],
   "source": [
    "a = np.arange(9).reshape(3,3).astype(object)\n",
    "print(a)\n",
    "arr_neighbors(a)\n",
    "\n"
   ]
  },
  {
   "cell_type": "code",
   "execution_count": null,
   "metadata": {},
   "outputs": [
    {
     "data": {
      "text/plain": [
       "{(0, 0): {(0, 1), (1, 0)},\n",
       " (0, 1): {(0, 0), (0, 2), (1, 1)},\n",
       " (0, 2): {(0, 1), (1, 2)},\n",
       " (1, 0): {(0, 0), (1, 1)},\n",
       " (1, 1): {(0, 1), (1, 0), (1, 2)},\n",
       " (1, 2): {(0, 2), (1, 1)}}"
      ]
     },
     "execution_count": null,
     "metadata": {},
     "output_type": "execute_result"
    }
   ],
   "source": [
    "arr_neighbors([[1,2,3],[3,4,4]])"
   ]
  },
  {
   "cell_type": "code",
   "execution_count": null,
   "metadata": {},
   "outputs": [],
   "source": [
    "#| export\n",
    "def iterate(grid):\n",
    "    for i,row in enumerate(grid):\n",
    "        for j,val in enumerate(row):\n",
    "            yield i,j,val"
   ]
  },
  {
   "cell_type": "code",
   "execution_count": null,
   "metadata": {},
   "outputs": [],
   "source": [
    "#| export\n",
    "\n",
    "Dim = namedtuple('Dim',['min','max','range'])\n",
    "def dimensions(obj, axis=0): \n",
    "    \"\"\"\n",
    "     takes an iterable of iterables and returns a namedtuple with minima, maxima and range\n",
    "     for example a 2d numpy array\n",
    "     dim.min, dim.max and dim.range\n",
    "    \"\"\"\n",
    "    if isinstance(obj, list):\n",
    "        obj = np.array(obj.copy())\n",
    "\n",
    "    minn = tuple(obj.min(axis = axis))\n",
    "    maxx = tuple(obj.max(axis = axis))\n",
    "    ranges = tuple(obj.ptp(axis=axis))\n",
    "    \n",
    "    res = Dim(minn, maxx, ranges)\n",
    "    return res"
   ]
  },
  {
   "cell_type": "code",
   "execution_count": null,
   "metadata": {},
   "outputs": [],
   "source": [
    "matrix = [[1,2,3],[10,9,8]]\n",
    "assert dimensions(matrix) == Dim(min=(1, 2, 3), max=(10, 9, 8), range=(9, 7, 5))\n",
    "assert dimensions(matrix, axis=1) == Dim(min=(1, 8), max=(3, 10), range=(2,2))\n",
    "assert dimensions(np.array(matrix)) == Dim(min=(1, 2, 3), max=(10, 9, 8), range=(9, 7, 5))"
   ]
  },
  {
   "cell_type": "code",
   "execution_count": null,
   "metadata": {},
   "outputs": [],
   "source": [
    "#| export\n",
    "def positive(*args): \n",
    "    \"\"\" \n",
    "        takes 1 or multiple lists of n coordinates and returns it normalized (getting rid of negatives)\n",
    "        Only works along rows! (axis=0)\n",
    "    \"\"\"\n",
    "    dtype = type(args[0][0]) # support list(s) of lists and list(s) of tuples\n",
    "    if len(args)==1: # only 1 argument passed\n",
    "        dim = dimensions(args[0])\n",
    "        obj = args[0]\n",
    "        if dtype == tuple:\n",
    "            return [tuple(o[i]-dim.min[i] for i in range(len(obj[0]))) for o in obj]\n",
    "        if dtype == list:\n",
    "            return [[o[i]-dim.min[i] for i in range(len(obj[0]))] for o in obj]\n",
    "        else: print('no support for dtype',dtype)\n",
    "    else: # multiple arguments passed\n",
    "        dim = dimensions([i for a in args for i in a])\n",
    "        if dtype == tuple:\n",
    "            return ([tuple(o[i]-dim.min[i] for i in range(len(obj[0]))) for o in obj] for obj in args)\n",
    "\n",
    "        if dtype == list: \n",
    "            return ([[o[i]-dim.min[i] for i in range(len(obj[0]))] for o in obj] for obj in args)\n",
    "        else: print('no support for dtype',dtype)"
   ]
  },
  {
   "cell_type": "markdown",
   "metadata": {},
   "source": [
    "positive() will only make changes along axis where negative values are detected"
   ]
  },
  {
   "cell_type": "code",
   "execution_count": null,
   "metadata": {},
   "outputs": [],
   "source": [
    "assert positive([(0,0,-4),(0,-10,0),(0,0,0)]) == [(0, 10, 0), (0, 0, 4), (0, 10, 4)]"
   ]
  },
  {
   "cell_type": "code",
   "execution_count": null,
   "metadata": {},
   "outputs": [],
   "source": [
    "#| export\n",
    "def manhattan(a,b):\n",
    "    # n dimensional manhattan\n",
    "    return sum(abs(x-y) for x,y in zip(a,b))"
   ]
  },
  {
   "cell_type": "code",
   "execution_count": null,
   "metadata": {},
   "outputs": [],
   "source": [
    "assert manhattan((10,10),(-1,11)) == 12\n",
    "assert manhattan((0,5),(-1,8)) == 4\n",
    "assert manhattan((10,10,10),(-1,11,12)) == 14\n",
    "assert manhattan((-1,-2,-3,-4),(3,6,2,-1)) == 20\n"
   ]
  },
  {
   "cell_type": "code",
   "execution_count": null,
   "metadata": {},
   "outputs": [],
   "source": [
    "#| export\n",
    "def conv1d(arr,conv_shape,mode='same',padding=None,pad_dir='center') ->list:\n",
    "    \"\"\"\n",
    "    Returns a list of kernel views of a string or list \n",
    "    mode == 'valid': returns only results where the kernel fits\n",
    "    mode == 'same': return the same amount of items as original\n",
    "    when mode =='same', default padding is the outer value\n",
    "    \"\"\"\n",
    "    print('not fully checked yet', mode)\n",
    "    \n",
    "    if padding:\n",
    "        to_pad = padding # user specified padding\n",
    "    else:\n",
    "        to_pad = arr[0] # begin or end of list\n",
    "\n",
    "    if isinstance(arr,list): # to convert a list temporarily to string\n",
    "        arr_is_list = True\n",
    "    else:\n",
    "        arr_is_list = False\n",
    "\n",
    "    if mode == 'valid':\n",
    "        pass\n",
    "\n",
    "    p_size = conv_shape//2\n",
    "    if mode == 'same':\n",
    "        if arr_is_list:\n",
    "            arr = ''.join(arr)\n",
    "        if isinstance(arr,str): #here the padding is applied\n",
    "            if pad_dir == 'center':\n",
    "                arr = to_pad*p_size+arr+to_pad*p_size\n",
    "            if pad_dir == 'left':\n",
    "                arr = to_pad*(conv_shape-1)+arr\n",
    "            if pad_dir == 'right':\n",
    "                arr = arr+to_pad*(conv_shape-1)\n",
    "        else:\n",
    "            return 'only string and list supported'\n",
    "        if arr_is_list:\n",
    "            arr = list(arr)\n",
    "\n",
    "    if conv_shape % 2 == 1: # odd conv_shape\n",
    "        return [arr[i-p_size:i+p_size+1] for i in range(p_size,len(arr)-p_size)]\n",
    "    else: # even conv_shape\n",
    "        return [arr[i:i+conv_shape] for i in range(0,len(arr)-conv_shape+1)]\n"
   ]
  },
  {
   "cell_type": "code",
   "execution_count": null,
   "metadata": {},
   "outputs": [
    {
     "name": "stdout",
     "output_type": "stream",
     "text": [
      "not fully checked yet valid\n",
      "not fully checked yet same\n"
     ]
    },
    {
     "data": {
      "text/plain": [
       "['112', '123', '234', '345', '451']"
      ]
     },
     "execution_count": null,
     "metadata": {},
     "output_type": "execute_result"
    }
   ],
   "source": [
    "conv1d(\"12345\",3,mode='valid') == ['123', '234', '345']\n",
    "conv1d(\"12345\",3,mode='same')\n",
    "# conv1d(\"12345\",2,mode='valid') == ['123', '234', '345'])\n"
   ]
  },
  {
   "cell_type": "code",
   "execution_count": null,
   "metadata": {},
   "outputs": [],
   "source": [
    "#| export\n",
    "def conv2d(arr,conv_shape,mode='valid',padding=None,pad_dir='center') ->list:\n",
    "    \"\"\"\n",
    "    Returns a list of kernel views of a string or list \n",
    "    mode == 'valid': returns only results where the kernel fits\n",
    "    mode == 'same': return the same amount of items as original\n",
    "    when mode =='same', default padding is the outer value\n",
    "    \"\"\"\n",
    "    print('not fully checked yet')\n",
    "    if padding:\n",
    "        to_pad = padding # user specified padding\n",
    "    else:\n",
    "        to_pad = arr[0] # begin or end of list\n",
    "\n",
    "    if isinstance(arr,list) or isinstance(arr,np.ndarray): # to convert a list to numpy array\n",
    "        arr_is_list = True\n",
    "    else:\n",
    "        arr_is_list = False\n",
    "\n",
    "    if mode == 'valid':\n",
    "        pass\n",
    "\n",
    "    p_size = conv_shape//2\n",
    "    if mode == 'same':\n",
    "        if arr_is_list:\n",
    "            arr = np.array(arr)\n",
    "        if isinstance(arr,str): #here the padding is applied\n",
    "            if pad_dir == 'center':\n",
    "                arr = to_pad*p_size+arr+to_pad*p_size\n",
    "            if pad_dir == 'left':\n",
    "                arr = to_pad*(conv_shape-1)+arr\n",
    "            if pad_dir == 'right':\n",
    "                arr = arr+to_pad*(conv_shape-1)\n",
    "        else:\n",
    "            return 'only string and list supported'\n",
    "        if arr_is_list:\n",
    "            arr = list(arr)\n",
    "\n",
    "    if conv_shape % 2 == 1: # odd conv_shape\n",
    "        return [arr[i-p_size:i+p_size+1] for i in range(p_size,len(arr)-p_size)]\n",
    "    else: # even conv_shape\n",
    "        return [arr[i:i+conv_shape] for i in range(0,len(arr)-conv_shape+1)]\n"
   ]
  },
  {
   "cell_type": "code",
   "execution_count": null,
   "metadata": {},
   "outputs": [
    {
     "name": "stdout",
     "output_type": "stream",
     "text": [
      "not fully checked yet\n"
     ]
    },
    {
     "data": {
      "text/plain": [
       "[]"
      ]
     },
     "execution_count": null,
     "metadata": {},
     "output_type": "execute_result"
    }
   ],
   "source": [
    "conv2d(np.array([np.arange(9).reshape(3,3)]), conv_shape=2)\n"
   ]
  },
  {
   "cell_type": "code",
   "execution_count": null,
   "metadata": {},
   "outputs": [],
   "source": [
    "#| export\n",
    "def rotate(locs, flip=False):\n",
    "    \"\"\"\n",
    "        Rotates a given pattern by 90 degrees (like a puzzle piece)\n",
    "        when flip=True, also piece around leading to maximum of 8 options\n",
    "    \"\"\"\n",
    "    def normalize(locs):\n",
    "        minr = min(r for r,c in locs)\n",
    "        minc = min(c for r,c in locs)\n",
    "        return {(r-minr, c-minc) for r,c in locs}\n",
    "\n",
    "    options = [{(r,c) for r,c in locs},\n",
    "            {(c,-r) for r,c in locs},\n",
    "            {(-r,-c) for r,c in locs},\n",
    "            {(-c,r) for r,c in locs},\n",
    "    ]\n",
    "    if flip:\n",
    "        options += [\n",
    "            {(-r,c) for r,c in locs},\n",
    "            {(c,r) for r,c in locs},\n",
    "            {(r,-c) for r,c in locs},\n",
    "            {(-c,-r) for r,c in locs}]\n",
    "    return [normalize(o) for o in options]\n",
    "    \n"
   ]
  },
  {
   "cell_type": "code",
   "execution_count": null,
   "metadata": {},
   "outputs": [],
   "source": [
    "locs = [(0,0), (0,1), (0,2),(1,2)]\n",
    "assert len({frozenset(s) for s in rotate(locs, flip=True)}) == 8\n",
    "locs = [(0,0), (0,1)]\n",
    "assert len({frozenset(s) for s in rotate(locs, flip=True)}) == 2"
   ]
  },
  {
   "cell_type": "code",
   "execution_count": null,
   "metadata": {},
   "outputs": [],
   "source": []
  }
 ],
 "metadata": {},
 "nbformat": 4,
 "nbformat_minor": 2
}
