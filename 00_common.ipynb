{
 "cells": [
  {
   "cell_type": "code",
   "execution_count": null,
   "metadata": {},
   "outputs": [],
   "source": [
    "#| default_exp common\n",
    "from nbdev import *\n",
    "from nbdev.showdoc import *"
   ]
  },
  {
   "cell_type": "markdown",
   "metadata": {},
   "source": [
    "## Quality of Life\n",
    "\n",
    "> A collection of somewhat handy functions to make your AoC puzzle life solving a bit easier"
   ]
  },
  {
   "cell_type": "code",
   "execution_count": null,
   "metadata": {},
   "outputs": [],
   "source": [
    "#| exporti\n",
    "from collections.abc import Iterable\n",
    "from collections import namedtuple, deque\n",
    "import contextlib\n",
    "from functools import reduce\n",
    "import hashlib\n",
    "import heapq\n",
    "import logging\n",
    "from math import sqrt, gcd\n",
    "from pathlib import Path\n",
    "import time\n",
    "import pickle\n",
    "import pandas as pd\n",
    "import numpy as np\n",
    "import re\n",
    "\n",
    "DATA_DIR = Path('data')"
   ]
  },
  {
   "cell_type": "code",
   "execution_count": null,
   "metadata": {},
   "outputs": [],
   "source": [
    "#| export\n",
    "def to_int(inp: Iterable, intonly=False): \n",
    "    \"\"\" \n",
    "        returns items converted to int if possible\n",
    "        keeps lists and tuples intact\n",
    "        e.g. to_int(['-12', 2, 'a']) returns [-12, 2, 'a']\n",
    "        watch out because passing a string '12t' will be ripped into a list [1,2,t]\n",
    "    \"\"\"\n",
    "    if not inp:\n",
    "        print('empty line, returning []')\n",
    "        return []\n",
    "    if isinstance(inp,str):\n",
    "        print('watch out string will be converted into list of characters and single digit ints')\n",
    "    if isinstance(inp[0],list):\n",
    "        return list(to_int(l) for l in inp)\n",
    "    if isinstance(inp[0],tuple):\n",
    "        return tuple(to_int(l) for l in inp)\n",
    "\n",
    "    out = []\n",
    "    for i in inp:\n",
    "        try:\n",
    "            out.append(int(i))\n",
    "        except ValueError:\n",
    "            if not intonly:\n",
    "                out.append(i)\n",
    "    if isinstance(inp,tuple): return tuple(out)\n",
    "    else: return list(out)"
   ]
  },
  {
   "cell_type": "code",
   "execution_count": null,
   "metadata": {},
   "outputs": [
    {
     "name": "stdout",
     "output_type": "stream",
     "text": [
      "watch out string will be converted into list of characters and single digit ints\n",
      "empty line, returning []\n",
      "empty line, returning []\n",
      "empty line, returning []\n"
     ]
    }
   ],
   "source": [
    "assert to_int([\"12\",2,'a']) == [12, 2, 'a']\n",
    "assert to_int([\"12\",2,'a'], intonly=True) == [12, 2]\n",
    "assert to_int([[[1],[-2,3]],[4,5,6]]) == [[[1], [-2, 3]], [4, 5, 6]]\n",
    "assert to_int('bla 202') == ['b', 'l', 'a', ' ', 2, 0, 2]\n",
    "assert to_int(None) == []\n",
    "assert to_int('') == []\n",
    "assert to_int([]) == []"
   ]
  },
  {
   "cell_type": "code",
   "execution_count": null,
   "metadata": {},
   "outputs": [],
   "source": [
    "#| export\n",
    "def ints(text: str) -> tuple[int]:\n",
    "    \"\"\"\n",
    "        Return a tuple of all the integers in a string\n",
    "    \"\"\"\n",
    "    return tuple(map(int, re.findall('-?[0-9]+', text)))"
   ]
  },
  {
   "cell_type": "code",
   "execution_count": null,
   "metadata": {},
   "outputs": [],
   "source": [
    "assert ints('blabla202test-20') == (202,-20)"
   ]
  },
  {
   "cell_type": "code",
   "execution_count": null,
   "metadata": {},
   "outputs": [],
   "source": [
    "#| export\n",
    "def flatten(x):\n",
    "    # recursive flattens the input. Returns a list\n",
    "    return list(_flatten(x))\n",
    "\n",
    "def _flatten(x):\n",
    "    for item in x:\n",
    "        if isinstance(item,Iterable) and not isinstance(item, str):\n",
    "            yield from _flatten(item)\n",
    "        else:\n",
    "            yield item"
   ]
  },
  {
   "cell_type": "code",
   "execution_count": null,
   "metadata": {},
   "outputs": [],
   "source": [
    "assert flatten([1,2,4,[99,33,[22,11]], 'f']) == [1, 2, 4, 99, 33, 22, 11, 'f']\n",
    "assert flatten([[[1],[2,3]],[4,5,6]]) == [1, 2, 3, 4, 5, 6]\n"
   ]
  },
  {
   "cell_type": "code",
   "execution_count": null,
   "metadata": {},
   "outputs": [],
   "source": [
    "#| export\n",
    "def reverse_dict(d):\n",
    "    return {v:k for k,v in d.items()}"
   ]
  },
  {
   "cell_type": "code",
   "execution_count": null,
   "metadata": {},
   "outputs": [],
   "source": [
    "a = {(0,0):'f'}\n",
    "a |= reverse_dict(a)\n",
    "assert a == {(0, 0): 'f', 'f': (0, 0)}"
   ]
  },
  {
   "cell_type": "code",
   "execution_count": null,
   "metadata": {},
   "outputs": [],
   "source": [
    "#| export\n",
    "def zippify(iterable, len=2, cat=False):\n",
    "    \"\"\"\n",
    "        Zips an iterable with arbitrary length pieces\n",
    "        e.g. to create a moving window with len n\n",
    "        Example:\n",
    "        zippify('abcd',2, cat=False)\n",
    "        --> [('a', 'b'), ('b', 'c'), ('c', 'd')]\n",
    "\n",
    "        If cat = True, joins the moving windows together\n",
    "        zippify('abcd',2, cat=True)\n",
    "        --> ['ab', 'bc', 'cd']\n",
    "    \"\"\"\n",
    "    iterable_collection = [iterable[i:] for i in range(len)]\n",
    "    res = list(zip(*iterable_collection))\n",
    "    return [''.join(r) for r in res] if cat else res"
   ]
  },
  {
   "cell_type": "code",
   "execution_count": null,
   "metadata": {},
   "outputs": [],
   "source": [
    "assert zippify('abcd',2, cat=True) == ['ab', 'bc', 'cd']\n",
    "assert zippify('abcd',2, cat=False) == [('a', 'b'), ('b', 'c'), ('c', 'd')]"
   ]
  },
  {
   "cell_type": "code",
   "execution_count": null,
   "metadata": {},
   "outputs": [],
   "source": [
    "#| export \n",
    "def list_multiply(a,b):\n",
    "    \"\"\"\n",
    "        Multiplies two iterables elementwise\n",
    "        Returns a list\n",
    "\n",
    "        Example:\n",
    "        list_multiply([1,2,3],[2,3,4])\n",
    "        --> [2, 6, 12]\n",
    "    \"\"\"\n",
    "    return (np.array(a)*np.array(b)).tolist()\n"
   ]
  },
  {
   "cell_type": "code",
   "execution_count": null,
   "metadata": {},
   "outputs": [],
   "source": [
    "assert list_multiply([1,2,3],[2,3,4]) == [2, 6, 12]"
   ]
  },
  {
   "cell_type": "code",
   "execution_count": null,
   "metadata": {},
   "outputs": [],
   "source": []
  }
 ],
 "metadata": {},
 "nbformat": 4,
 "nbformat_minor": 2
}
