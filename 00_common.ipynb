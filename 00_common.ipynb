{
 "cells": [
  {
   "cell_type": "code",
   "execution_count": null,
   "metadata": {},
   "outputs": [],
   "source": [
    "#| default_exp common\n",
    "from nbdev import *\n",
    "from nbdev.showdoc import *"
   ]
  },
  {
   "cell_type": "markdown",
   "metadata": {},
   "source": [
    "## Common\n",
    "\n",
    "> Functions that you can use quite often"
   ]
  },
  {
   "cell_type": "code",
   "execution_count": null,
   "metadata": {},
   "outputs": [],
   "source": [
    "#| exporti\n",
    "from collections.abc import Iterable\n",
    "from collections import namedtuple, deque, defaultdict\n",
    "from itertools   import chain\n",
    "import string\n",
    "import re\n",
    "from typing import Union\n",
    "import numpy as np\n",
    "from functools import partial"
   ]
  },
  {
   "cell_type": "code",
   "execution_count": null,
   "metadata": {},
   "outputs": [],
   "source": [
    "#| export\n",
    "def to_int(\n",
    "    it: Iterable,   # watch out because passing a string '12t' will be ripped into a list [1,2,t]\n",
    "    intonly=False):  # removes non-ints if set to True\n",
    "    \"\"\"\n",
    "    returns items converted to int if possible\n",
    "    \n",
    "    Examples\n",
    "    --------\n",
    "    >>> to_int(['-12', 2, 'a'])\n",
    "    [-12, 2, 'a']\n",
    "    \"\"\"\n",
    "\n",
    "    if not it:\n",
    "        print('empty line, returning []')\n",
    "        return []\n",
    "    if isinstance(it,str):\n",
    "        print('watch out string will be converted into list of characters and single digit ints')\n",
    "    if isinstance(it[0],list):\n",
    "        return list(to_int(l) for l in it)\n",
    "    if isinstance(it[0],tuple):\n",
    "        return tuple(to_int(l) for l in it)\n",
    "\n",
    "    out = []\n",
    "    for i in it:\n",
    "        try:\n",
    "            out.append(int(i))\n",
    "        except ValueError:\n",
    "            if not intonly:\n",
    "                out.append(i)\n",
    "    if isinstance(it,tuple): return tuple(out)\n",
    "    else: return list(out)"
   ]
  },
  {
   "cell_type": "code",
   "execution_count": null,
   "metadata": {},
   "outputs": [
    {
     "name": "stdout",
     "output_type": "stream",
     "text": [
      "watch out string will be converted into list of characters and single digit ints\n",
      "empty line, returning []\n",
      "empty line, returning []\n",
      "empty line, returning []\n"
     ]
    }
   ],
   "source": [
    "assert to_int([\"12\",2,'a']) == [12, 2, 'a']\n",
    "assert to_int([\"12\",2,'a'], intonly=True) == [12, 2]\n",
    "assert to_int([[[1],[-2,3]],[4,5,6]]) == [[[1], [-2, 3]], [4, 5, 6]]\n",
    "assert to_int('bla 202') == ['b', 'l', 'a', ' ', 2, 0, 2]\n",
    "assert to_int(None) == []\n",
    "assert to_int('') == []\n",
    "assert to_int([]) == []"
   ]
  },
  {
   "cell_type": "code",
   "execution_count": null,
   "metadata": {},
   "outputs": [],
   "source": [
    "#| export\n",
    "def ints(text: str) -> tuple[int]:\n",
    "    \"\"\"\n",
    "    Return a tuple of all the integers in a string\n",
    "    \"\"\"\n",
    "    return tuple(map(int, re.findall('-?[0-9]+', text)))"
   ]
  },
  {
   "cell_type": "code",
   "execution_count": null,
   "metadata": {},
   "outputs": [],
   "source": [
    "assert ints('blabla202test-20') == (202,-20)"
   ]
  },
  {
   "cell_type": "code",
   "execution_count": null,
   "metadata": {},
   "outputs": [],
   "source": [
    "#| export\n",
    "def flatten(x:Iterable):\n",
    "    \"\"\" \n",
    "    recursive flattens the input. Returns a list\n",
    "    \"\"\"\n",
    "    return list(_flatten(x))\n",
    "\n",
    "def _flatten(x):\n",
    "    for item in x:\n",
    "        if isinstance(item,Iterable) and not isinstance(item, str):\n",
    "            yield from _flatten(item)\n",
    "        else:\n",
    "            yield item"
   ]
  },
  {
   "cell_type": "code",
   "execution_count": null,
   "metadata": {},
   "outputs": [],
   "source": [
    "assert flatten([1,2,4,[99,33,[22,11]], 'f']) == [1, 2, 4, 99, 33, 22, 11, 'f']\n",
    "assert flatten([[[1],[2,3]],[4,5,6]]) == [1, 2, 3, 4, 5, 6]"
   ]
  },
  {
   "cell_type": "code",
   "execution_count": null,
   "metadata": {},
   "outputs": [],
   "source": [
    "#| export\n",
    "def rev(d:dict) -> dict:\n",
    "    \"Reverses keys and values\"\n",
    "    return {v:k for k,v in d.items()}"
   ]
  },
  {
   "cell_type": "code",
   "execution_count": null,
   "metadata": {},
   "outputs": [],
   "source": [
    "a = {(0,0):'f'}\n",
    "a |= rev(a)\n",
    "assert a == {(0, 0): 'f', 'f': (0, 0)}"
   ]
  },
  {
   "cell_type": "code",
   "execution_count": null,
   "metadata": {},
   "outputs": [],
   "source": [
    "#| export\n",
    "def zippify(iterable, len=2, cat=False):\n",
    "    \"\"\"\n",
    "        Zips an iterable with arbitrary length pieces\n",
    "        \n",
    "        e.g. to create a moving window with len n\n",
    "        \n",
    "        Example:\n",
    "        zippify('abcd',2, cat=False)\n",
    "        --> [('a', 'b'), ('b', 'c'), ('c', 'd')]\n",
    "\n",
    "        If cat = True, joins the moving windows together\n",
    "        zippify('abcd',2, cat=True)\n",
    "        --> ['ab', 'bc', 'cd']\n",
    "    \"\"\"\n",
    "    iterable_collection = [iterable[i:] for i in range(len)]\n",
    "    res = list(zip(*iterable_collection))\n",
    "    return [''.join(r) for r in res] if cat else res"
   ]
  },
  {
   "cell_type": "code",
   "execution_count": null,
   "metadata": {},
   "outputs": [],
   "source": [
    "assert zippify('abcd',2, cat=True) == ['ab', 'bc', 'cd']\n",
    "assert zippify('abcd',2, cat=False) == [('a', 'b'), ('b', 'c'), ('c', 'd')]\n",
    "assert zippify('abcde',3) == [('a', 'b', 'c'), ('b', 'c', 'd'), ('c', 'd', 'e')]"
   ]
  },
  {
   "cell_type": "code",
   "execution_count": null,
   "metadata": {},
   "outputs": [],
   "source": [
    "#| export \n",
    "def list_multiply(a:Iterable,b:Iterable)->list:\n",
    "    \"\"\"\n",
    "        Multiplies two iterables elementwise\n",
    "\n",
    "        list_multiply([1,2,3],[2,3,4]) -> [2, 6, 12]\n",
    "    \"\"\"\n",
    "    return (np.array(a)*np.array(b)).tolist()\n"
   ]
  },
  {
   "cell_type": "code",
   "execution_count": null,
   "metadata": {},
   "outputs": [],
   "source": [
    "assert list_multiply([1,2,3],[2,3,4]) == [2, 6, 12]\n",
    "assert list_multiply((1,2,3),(2,3,4)) == [2, 6, 12]\n",
    "assert list_multiply([1,2,3],(2,3,4)) == [2, 6, 12]"
   ]
  },
  {
   "cell_type": "markdown",
   "metadata": {},
   "source": [
    "## Peter Norvig AoC helper functions\n",
    "\n",
    "> All of these are taken from github of Peter Norvig\n",
    "> https://github.com/norvig/pytudes/blob/master/ipynb/Advent-2020.ipynb"
   ]
  },
  {
   "cell_type": "code",
   "execution_count": null,
   "metadata": {},
   "outputs": [],
   "source": [
    "#| export\n",
    "def quantify(iterable, pred=bool) -> int:\n",
    "    \"Count the number of items in iterable for which pred is true.\"\n",
    "    return sum(1 for item in iterable if pred(item))"
   ]
  },
  {
   "cell_type": "code",
   "execution_count": null,
   "metadata": {},
   "outputs": [],
   "source": [
    "intchecker = partial(lambda x: isinstance(x, int))\n",
    "assert quantify(['a','11',11,22], pred=intchecker) == 2\n",
    "assert quantify([1,2,3,4,5,6,7], lambda x: x==5) == 1"
   ]
  },
  {
   "cell_type": "code",
   "execution_count": null,
   "metadata": {},
   "outputs": [],
   "source": [
    "#| export\n",
    "def first(iterable, default=None) -> object:\n",
    "    \"Return first item in iterable, or default.\"\n",
    "    return next(iter(iterable), default)"
   ]
  },
  {
   "cell_type": "code",
   "execution_count": null,
   "metadata": {},
   "outputs": [],
   "source": [
    "assert first([], default = 2) == 2\n",
    "assert first(['a','b'], default = 2) == 'a'"
   ]
  },
  {
   "cell_type": "code",
   "execution_count": null,
   "metadata": {},
   "outputs": [],
   "source": [
    "#| export\n",
    "def multimap(items: Iterable[tuple]) -> dict:\n",
    "    \"Given (key, val) pairs, return {key: [val, ....], ...}.\"\n",
    "    result = defaultdict(list)\n",
    "    for key, val in items:\n",
    "        result[key].append(val)\n",
    "    return result"
   ]
  },
  {
   "cell_type": "code",
   "execution_count": null,
   "metadata": {},
   "outputs": [
    {
     "data": {
      "text/plain": [
       "defaultdict(list,\n",
       "            {0: ['A'],\n",
       "             1: ['B'],\n",
       "             2: ['C'],\n",
       "             3: ['D'],\n",
       "             4: ['E'],\n",
       "             5: ['F'],\n",
       "             6: ['G'],\n",
       "             7: ['H'],\n",
       "             8: ['I'],\n",
       "             9: ['J'],\n",
       "             10: ['K'],\n",
       "             11: ['L'],\n",
       "             12: ['M'],\n",
       "             13: ['N'],\n",
       "             14: ['O'],\n",
       "             15: ['P'],\n",
       "             16: ['Q'],\n",
       "             17: ['R'],\n",
       "             18: ['S'],\n",
       "             19: ['T'],\n",
       "             20: ['U'],\n",
       "             21: ['V'],\n",
       "             22: ['W'],\n",
       "             23: ['X'],\n",
       "             24: ['Y'],\n",
       "             25: ['Z']})"
      ]
     },
     "execution_count": null,
     "metadata": {},
     "output_type": "execute_result"
    }
   ],
   "source": [
    "\n",
    "d = {i:char for i, char in enumerate(list(string.ascii_uppercase))}\n",
    "multimap(d.items())"
   ]
  },
  {
   "cell_type": "code",
   "execution_count": null,
   "metadata": {},
   "outputs": [
    {
     "data": {
      "text/plain": [
       "True"
      ]
     },
     "execution_count": null,
     "metadata": {},
     "output_type": "execute_result"
    }
   ],
   "source": [
    "#| export\n",
    "def atom(text: str) -> Union[float, int, str]:\n",
    "    \"Parse text into a single float or int or str.\"\n",
    "\n",
    "    try:\n",
    "        val = float(text)\n",
    "        return round(val) if round(val) == val else val\n",
    "    except ValueError:\n",
    "        return text\n",
    "atom('11') == 11\n"
   ]
  },
  {
   "cell_type": "code",
   "execution_count": null,
   "metadata": {},
   "outputs": [
    {
     "data": {
      "text/plain": [
       "('abc', 111, 'def')"
      ]
     },
     "execution_count": null,
     "metadata": {},
     "output_type": "execute_result"
    }
   ],
   "source": [
    "#| export\n",
    "def atoms(text: str, ignore=r'', sep=None) -> tuple[Union[int, str]]:\n",
    "    \"Parse text into atoms (numbers or strs), possibly ignoring a regex.\"\n",
    "    if ignore:\n",
    "        text = re.sub(ignore, '', text)\n",
    "    return tuple(map(atom, text.split(sep)))\n",
    "atoms('abc 111 def')"
   ]
  },
  {
   "cell_type": "code",
   "execution_count": null,
   "metadata": {},
   "outputs": [],
   "source": [
    "#| export\n",
    "def list_atoms(inp: list):\n",
    "    return tuple(map(atom, inp))\n"
   ]
  },
  {
   "cell_type": "code",
   "execution_count": null,
   "metadata": {},
   "outputs": [
    {
     "data": {
      "text/plain": [
       "(1, 3.2, 'a', 1)"
      ]
     },
     "execution_count": null,
     "metadata": {},
     "output_type": "execute_result"
    }
   ],
   "source": [
    "list_atoms(['1', '3.2', 'a', 1])"
   ]
  },
  {
   "cell_type": "code",
   "execution_count": null,
   "metadata": {},
   "outputs": [
    {
     "data": {
      "text/plain": [
       "True"
      ]
     },
     "execution_count": null,
     "metadata": {},
     "output_type": "execute_result"
    }
   ],
   "source": [
    "#| export   \n",
    "def dotproduct(A, B) -> float: return sum(a * b for a, b in zip(A, B))\n",
    "dotproduct([1,2],[7,8]) == 23"
   ]
  },
  {
   "cell_type": "code",
   "execution_count": null,
   "metadata": {},
   "outputs": [
    {
     "data": {
      "text/plain": [
       "('az', 'bz', 'cz', 'dz', 'ez')"
      ]
     },
     "execution_count": null,
     "metadata": {},
     "output_type": "execute_result"
    }
   ],
   "source": [
    "#| export\n",
    "def mapt(fn, *args):\n",
    "    \"map(fn, *args) and return the result as a tuple.\"\n",
    "    return tuple(map(fn, *args))\n",
    "mapt(lambda x: x+'z', list('abcde'))"
   ]
  },
  {
   "cell_type": "code",
   "execution_count": null,
   "metadata": {},
   "outputs": [],
   "source": [
    "#| export \n",
    "cat = ''.join\n",
    "flatten = chain.from_iterable"
   ]
  }
 ],
 "metadata": {},
 "nbformat": 4,
 "nbformat_minor": 2
}
