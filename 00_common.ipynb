{
 "cells": [
  {
   "cell_type": "code",
   "execution_count": null,
   "metadata": {},
   "outputs": [],
   "source": [
    "#| default_exp common\n",
    "from nbdev import *\n",
    "from nbdev.showdoc import *"
   ]
  },
  {
   "cell_type": "markdown",
   "metadata": {},
   "source": [
    "## Common\n",
    "\n",
    "> Functions that you can use quite often"
   ]
  },
  {
   "cell_type": "code",
   "execution_count": null,
   "metadata": {},
   "outputs": [],
   "source": [
    "#| exporti\n",
    "from collections.abc import Iterable\n",
    "from collections import namedtuple, deque, defaultdict\n",
    "from itertools   import chain, combinations, permutations\n",
    "import string\n",
    "import re\n",
    "from typing import Union\n",
    "import numpy as np\n",
    "from functools import partial\n",
    "import functools\n",
    "from types import FunctionType"
   ]
  },
  {
   "cell_type": "code",
   "execution_count": null,
   "metadata": {},
   "outputs": [],
   "source": [
    "#| export\n",
    "def copy_func(f):\n",
    "    \"Copy a non-builtin function (NB `copy.copy` does not work for this)\"\n",
    "    if not isinstance(f,FunctionType): return copy(f)\n",
    "    fn = FunctionType(f.__code__, f.__globals__, f.__name__, f.__defaults__, f.__closure__)\n",
    "    fn.__dict__.update(f.__dict__)\n",
    "    return fn\n",
    "\n",
    "def patch_to(cls, as_prop=False):\n",
    "    \"Decorator: add `f` to `cls`\"\n",
    "    if not isinstance(cls, (tuple,list)): cls=(cls,)\n",
    "    def _inner(f):\n",
    "        for c_ in cls:\n",
    "            nf = copy_func(f)\n",
    "            # `functools.update_wrapper` when passing patched function to `Pipeline`, so we do it manually\n",
    "            for o in functools.WRAPPER_ASSIGNMENTS: setattr(nf, o, getattr(f,o))\n",
    "            nf.__qualname__ = f\"{c_.__name__}.{f.__name__}\"\n",
    "            setattr(c_, f.__name__, property(nf) if as_prop else nf)\n",
    "        return f\n",
    "    return _inner\n",
    "\n",
    "def patch(f):\n",
    "    \"Decorator: add `f` to the first parameter's class (based on f's type annotations)\"\n",
    "    cls = next(iter(f.__annotations__.values()))\n",
    "    return patch_to(cls)(f)"
   ]
  },
  {
   "cell_type": "code",
   "execution_count": null,
   "metadata": {},
   "outputs": [],
   "source": [
    "class Test():\n",
    "    def __init__(self):\n",
    "        pass"
   ]
  },
  {
   "cell_type": "code",
   "execution_count": null,
   "metadata": {},
   "outputs": [
    {
     "name": "stdout",
     "output_type": "stream",
     "text": [
      "hi there\n"
     ]
    }
   ],
   "source": [
    "@patch_to(Test)\n",
    "def hi(self):\n",
    "    print('hi there')\n",
    "Test().hi()"
   ]
  },
  {
   "cell_type": "code",
   "execution_count": null,
   "metadata": {},
   "outputs": [],
   "source": [
    "#| export\n",
    "def to_int(\n",
    "    it: Iterable,    # watch out because passing a string '12t' will be ripped into a list [1,2,t]\n",
    "    intonly=False):  # removes non-ints if set to True\n",
    "    \"\"\"\n",
    "    Returns contents of iterable converted to int if possible\n",
    "    \n",
    "    Examples\n",
    "    --------\n",
    "    >>> to_int(['-12', 2, 'a'])\n",
    "    [-12, 2, 'a']\n",
    "    \"\"\"\n",
    "\n",
    "    if not it:\n",
    "        print('empty line, returning []')\n",
    "        return []\n",
    "    if isinstance(it,str):\n",
    "        print('watch out string will be converted into list of characters and single digit ints')\n",
    "    if isinstance(it[0],list):\n",
    "        return list(to_int(l) for l in it)\n",
    "    if isinstance(it[0],tuple):\n",
    "        return tuple(to_int(l) for l in it)\n",
    "\n",
    "    out = []\n",
    "    for i in it:\n",
    "        try:\n",
    "            out.append(int(i))\n",
    "        except ValueError:\n",
    "            if not intonly:\n",
    "                out.append(i)\n",
    "    if isinstance(it,tuple): return tuple(out)\n",
    "    else: return list(out)"
   ]
  },
  {
   "cell_type": "code",
   "execution_count": null,
   "metadata": {},
   "outputs": [
    {
     "name": "stdout",
     "output_type": "stream",
     "text": [
      "watch out string will be converted into list of characters and single digit ints\n",
      "empty line, returning []\n",
      "empty line, returning []\n",
      "empty line, returning []\n"
     ]
    }
   ],
   "source": [
    "assert to_int([\"12\",2,'a']) == [12, 2, 'a']\n",
    "assert to_int([\"12\",2,'a'], intonly=True) == [12, 2]\n",
    "assert to_int([[[1],[-2,3]],[4,5,6]]) == [[[1], [-2, 3]], [4, 5, 6]]\n",
    "assert to_int('bla 202') == ['b', 'l', 'a', ' ', 2, 0, 2]\n",
    "assert to_int(None) == []\n",
    "assert to_int('') == []\n",
    "assert to_int([]) == []"
   ]
  },
  {
   "cell_type": "code",
   "execution_count": null,
   "metadata": {},
   "outputs": [],
   "source": [
    "#| export\n",
    "def ints(text: str) -> tuple[int]:\n",
    "    \"\"\"\n",
    "    Return a tuple of all the integers in a string, discards everything else\n",
    "    \"\"\"\n",
    "    return tuple(map(int, re.findall('-?[0-9]+', text)))"
   ]
  },
  {
   "cell_type": "code",
   "execution_count": null,
   "metadata": {},
   "outputs": [],
   "source": [
    "assert ints('blabla202test-20') == (202,-20)"
   ]
  },
  {
   "cell_type": "code",
   "execution_count": null,
   "metadata": {},
   "outputs": [],
   "source": [
    "#| export\n",
    "def flatten(x:Iterable):\n",
    "    def _flatten(x):\n",
    "        for item in x:\n",
    "            if isinstance(item,Iterable) and not isinstance(item, str):\n",
    "                yield from _flatten(item)\n",
    "            else:\n",
    "                yield item\n",
    "    \"\"\" \n",
    "    recursive flattens the input. Returns a list\n",
    "    \"\"\"\n",
    "    return list(_flatten(x))\n",
    "\n"
   ]
  },
  {
   "cell_type": "code",
   "execution_count": null,
   "metadata": {},
   "outputs": [],
   "source": [
    "assert flatten([1,2,4,[99,33,[22,11]], 'f']) == [1, 2, 4, 99, 33, 22, 11, 'f']\n",
    "assert flatten([[[1],[2,3]],[4,5,6]]) == [1, 2, 3, 4, 5, 6]"
   ]
  },
  {
   "cell_type": "code",
   "execution_count": null,
   "metadata": {},
   "outputs": [],
   "source": [
    "#| export\n",
    "def zippify(iterable, len=2, cat=False):\n",
    "    \"\"\"\n",
    "        Zips an iterable with arbitrary length pieces\n",
    "        \n",
    "        e.g. to create a moving window with len n\n",
    "        \n",
    "        Example:\n",
    "        zippify('abcd',2, cat=False)\n",
    "        --> [('a', 'b'), ('b', 'c'), ('c', 'd')]\n",
    "\n",
    "        If cat = True, joins the moving windows together\n",
    "        zippify('abcd',2, cat=True)\n",
    "        --> ['ab', 'bc', 'cd']\n",
    "    \"\"\"\n",
    "    iterable_collection = [iterable[i:] for i in range(len)]\n",
    "    res = list(zip(*iterable_collection))\n",
    "    return [''.join(r) for r in res] if cat else res"
   ]
  },
  {
   "cell_type": "code",
   "execution_count": null,
   "metadata": {},
   "outputs": [],
   "source": [
    "assert zippify('abcd',2, cat=True) == ['ab', 'bc', 'cd']\n",
    "assert zippify('abcd',2, cat=False) == [('a', 'b'), ('b', 'c'), ('c', 'd')]\n",
    "assert zippify('abcde',3) == [('a', 'b', 'c'), ('b', 'c', 'd'), ('c', 'd', 'e')]"
   ]
  },
  {
   "cell_type": "code",
   "execution_count": null,
   "metadata": {},
   "outputs": [],
   "source": [
    "#| export\n",
    "def multidict(items: Iterable[tuple]) -> dict:\n",
    "    \"Given (key, val) pairs, return {key: [val, ....], ...}.\"\n",
    "    result = defaultdict(list)\n",
    "    for key, val in items:\n",
    "        result[key].append(val)\n",
    "    return result"
   ]
  },
  {
   "cell_type": "code",
   "execution_count": null,
   "metadata": {},
   "outputs": [
    {
     "data": {
      "text/plain": [
       "({2: 'b', 4: 'a'}, defaultdict(list, {2: ['a', 'b'], 4: ['a']}))"
      ]
     },
     "execution_count": null,
     "metadata": {},
     "output_type": "execute_result"
    }
   ],
   "source": [
    "tuples = [(2, 'a'),(2, 'b'),(4, 'a')]\n",
    "dict(tuples), multidict(tuples)"
   ]
  },
  {
   "cell_type": "code",
   "execution_count": null,
   "metadata": {},
   "outputs": [],
   "source": [
    "#| export\n",
    "def rev(d:dict) -> dict:\n",
    "    \"Reverses keys and values. Make sure the value is hashable\"\n",
    "    return {v:k for k,v in d.items()}"
   ]
  },
  {
   "cell_type": "code",
   "execution_count": null,
   "metadata": {},
   "outputs": [],
   "source": [
    "a = {(0,0):'f'}\n",
    "a |= rev(a)\n",
    "assert a == {(0, 0): 'f', 'f': (0, 0)}"
   ]
  },
  {
   "cell_type": "markdown",
   "metadata": {},
   "source": [
    "## Peter Norvig AoC helper functions\n",
    "\n",
    "> All of these are taken from github of Peter Norvig\n",
    "> https://github.com/norvig/pytudes/blob/master/ipynb/Advent-2020.ipynb"
   ]
  },
  {
   "cell_type": "code",
   "execution_count": null,
   "metadata": {},
   "outputs": [],
   "source": [
    "#| export\n",
    "def data(filename='input', parser=str, sep='\\n') -> list:\n",
    "    \"Split the day's input file into sections separated by `sep`, and apply `parser` to each.\"\n",
    "    sections = open(f'{filename}.txt').read().rstrip().split(sep)\n",
    "    return [parser(section) for section in sections]"
   ]
  },
  {
   "cell_type": "code",
   "execution_count": null,
   "metadata": {},
   "outputs": [],
   "source": [
    "#| export\n",
    "def quantify(iterable, pred=bool) -> int:\n",
    "    \"Count the number of items in iterable for which pred is true.\"\n",
    "    return sum(1 for item in iterable if pred(item))"
   ]
  },
  {
   "cell_type": "code",
   "execution_count": null,
   "metadata": {},
   "outputs": [],
   "source": [
    "assert quantify(['a','11',11,22], pred=lambda x: isinstance(x, int)) == 2\n",
    "assert quantify([1,2,3,4,5,6,7], lambda x: x==5) == 1\n",
    "assert quantify([1,2,3,4], lambda x: x<3) == 2"
   ]
  },
  {
   "cell_type": "code",
   "execution_count": null,
   "metadata": {},
   "outputs": [],
   "source": [
    "#| export\n",
    "def atom(text: str) -> Union[float, int, str]:\n",
    "    \"Parse text into a single float or int or str.\"\n",
    "    try:\n",
    "        val = float(text)\n",
    "        return round(val) if round(val) == val else val\n",
    "    except ValueError:\n",
    "        return text\n"
   ]
  },
  {
   "cell_type": "code",
   "execution_count": null,
   "metadata": {},
   "outputs": [
    {
     "data": {
      "text/plain": [
       "True"
      ]
     },
     "execution_count": null,
     "metadata": {},
     "output_type": "execute_result"
    }
   ],
   "source": [
    "atom('11') == 11"
   ]
  },
  {
   "cell_type": "code",
   "execution_count": null,
   "metadata": {},
   "outputs": [
    {
     "data": {
      "text/plain": [
       "('abc', 111, 'def')"
      ]
     },
     "execution_count": null,
     "metadata": {},
     "output_type": "execute_result"
    }
   ],
   "source": [
    "#| export\n",
    "def atoms(text: str, ignore=r'', sep=None) -> tuple[Union[int, str]]:\n",
    "    \"Parse text into atoms (numbers or strs), possibly ignoring a regex.\"\n",
    "    if ignore:\n",
    "        text = re.sub(ignore, '', text)\n",
    "    return tuple(map(atom, text.split(sep)))\n"
   ]
  },
  {
   "cell_type": "code",
   "execution_count": null,
   "metadata": {},
   "outputs": [],
   "source": [
    "atoms('abc 111 def')"
   ]
  },
  {
   "cell_type": "code",
   "execution_count": null,
   "metadata": {},
   "outputs": [],
   "source": [
    "#| export\n",
    "def list_atoms(inp: list):\n",
    "    return tuple(map(atom, inp))\n"
   ]
  },
  {
   "cell_type": "code",
   "execution_count": null,
   "metadata": {},
   "outputs": [],
   "source": [
    "assert list_atoms(['1', '3.2', 'a', 1])"
   ]
  },
  {
   "cell_type": "code",
   "execution_count": null,
   "metadata": {},
   "outputs": [],
   "source": [
    "#| export \n",
    "def list_multiply(a:Iterable,b:Iterable)->list:\n",
    "    \"\"\"\n",
    "        Multiplies two iterables elementwise\n",
    "\n",
    "        list_multiply([1,2,3],[2,3,4]) -> [2, 6, 12]\n",
    "    \"\"\"\n",
    "    return (np.array(a)*np.array(b)).tolist()\n"
   ]
  },
  {
   "cell_type": "code",
   "execution_count": null,
   "metadata": {},
   "outputs": [],
   "source": [
    "assert list_multiply([1,2,3],[2,3,4]) == [2, 6, 12]\n",
    "assert list_multiply((1,2,3),(2,3,4)) == [2, 6, 12]\n",
    "assert list_multiply([1,2,3],(2,3,4)) == [2, 6, 12]"
   ]
  },
  {
   "cell_type": "code",
   "execution_count": null,
   "metadata": {},
   "outputs": [
    {
     "data": {
      "text/plain": [
       "('az', 'bz', 'cz', 'dz', 'ez')"
      ]
     },
     "execution_count": null,
     "metadata": {},
     "output_type": "execute_result"
    }
   ],
   "source": [
    "#| export\n",
    "def mapt(fn, *args):\n",
    "    \"map(fn, *args) and return the result as a tuple.\"\n",
    "    return tuple(map(fn, *args))\n",
    "mapt(lambda x: x+'z', list('abcde'))"
   ]
  },
  {
   "cell_type": "code",
   "execution_count": null,
   "metadata": {},
   "outputs": [],
   "source": [
    "#| export \n",
    "cat = ''.join\n",
    "chainit = chain.from_iterable"
   ]
  }
 ],
 "metadata": {},
 "nbformat": 4,
 "nbformat_minor": 2
}
