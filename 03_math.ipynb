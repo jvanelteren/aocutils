{
 "cells": [
  {
   "cell_type": "code",
   "execution_count": null,
   "metadata": {},
   "outputs": [],
   "source": [
    "# | default_exp math\n",
    "from nbdev import *\n",
    "from nbdev.showdoc import *"
   ]
  },
  {
   "cell_type": "markdown",
   "metadata": {},
   "source": [
    "# Mathy functions"
   ]
  },
  {
   "cell_type": "code",
   "execution_count": null,
   "metadata": {},
   "outputs": [],
   "source": [
    "# | exporti\n",
    "from functools import reduce\n",
    "import operator\n",
    "import heapq\n",
    "from math import sqrt, gcd\n",
    "import math\n",
    "from bisect import bisect_left\n",
    "from itertools import combinations, permutations, chain\n",
    "from aocutils.special import UnionFind"
   ]
  },
  {
   "cell_type": "code",
   "execution_count": null,
   "metadata": {},
   "outputs": [],
   "source": [
    "# | export\n",
    "def factors(n):\n",
    "    \"\"\"\n",
    "    return set of divisors of a number\n",
    "    \"\"\"\n",
    "    step = 2 if n % 2 else 1\n",
    "    return set(\n",
    "        reduce(\n",
    "            list.__add__,\n",
    "            ([i, n // i] for i in range(1, int(sqrt(n)) + 1, step) if n % i == 0),\n",
    "        )\n",
    "    )"
   ]
  },
  {
   "cell_type": "code",
   "execution_count": null,
   "metadata": {},
   "outputs": [],
   "source": [
    "assert factors(20) == {1, 2, 4, 5, 10, 20}"
   ]
  },
  {
   "cell_type": "code",
   "execution_count": null,
   "metadata": {},
   "outputs": [],
   "source": [
    "# | export\n",
    "def gcd(a, b):\n",
    "    # example gcd(10, 15) == 5\n",
    "    largest = max(a, b)\n",
    "    smallest = min(a, b)\n",
    "    if a == b:\n",
    "        return a\n",
    "    if not largest % smallest:\n",
    "        return smallest\n",
    "    while True:\n",
    "        rest = largest % smallest\n",
    "        if rest == 0:\n",
    "            return prevrest\n",
    "        else:\n",
    "            prevrest = rest\n",
    "            largest = smallest\n",
    "            smallest = rest\n",
    "\n",
    "\n",
    "def lcm(iterable):\n",
    "    # example \n",
    "    lcm = iterable[0]\n",
    "    for i in iterable[1:]:\n",
    "        lcm = lcm * i // gcd(lcm, i)\n",
    "    return lcm"
   ]
  },
  {
   "cell_type": "code",
   "execution_count": null,
   "metadata": {},
   "outputs": [],
   "source": [
    "assert gcd(12, 8) == 4\n",
    "assert gcd(12, 4) == 4\n",
    "assert gcd(12, 12) == 12\n",
    "assert lcm([4, 6, 7]) == 84\n",
    "assert lcm([10, 15]) == 30\n",
    "assert lcm([5, 7, 11]) == 385"
   ]
  },
  {
   "cell_type": "code",
   "execution_count": null,
   "metadata": {},
   "outputs": [
    {
     "name": "stdout",
     "output_type": "stream",
     "text": [
      "res 9\n"
     ]
    }
   ],
   "source": [
    "def power(a, b, M=None):\n",
    "    # computes a**b. Actually python pow does this with optional third argument\n",
    "    res = 1\n",
    "    while b:\n",
    "        if b % 2 == 1:\n",
    "            res = (res * a) % M if M else res * a\n",
    "            print(\"res\", res)\n",
    "        a *= a\n",
    "        b //= 2\n",
    "    return res\n",
    "\n",
    "\n",
    "assert power(3, 2) == pow(3,2)"
   ]
  },
  {
   "cell_type": "code",
   "execution_count": null,
   "metadata": {},
   "outputs": [],
   "source": [
    "# | export\n",
    "def crt(remainders, moduli):\n",
    "    \"\"\"\n",
    "    Chinese remainder theorem\n",
    "    \"\"\"\n",
    "    cur_rem = remainders[0]\n",
    "    cur_mod = moduli[0]\n",
    "    for rem, mod in zip(remainders[1:], moduli[1:]):\n",
    "        i = 0\n",
    "        while True:\n",
    "            if (cur_rem + i * cur_mod) % mod == rem % mod:\n",
    "                cur_rem += i * cur_mod\n",
    "                cur_mod = lcm((cur_mod, mod))\n",
    "                break\n",
    "            else:\n",
    "                i += 1\n",
    "    print(\"Returning remainder and modulo. First valid number is the remainder\")\n",
    "    return cur_rem, cur_mod"
   ]
  },
  {
   "cell_type": "code",
   "execution_count": null,
   "metadata": {},
   "outputs": [
    {
     "name": "stdout",
     "output_type": "stream",
     "text": [
      "Returning remainder and modulo. First valid number is the remainder\n",
      "Returning remainder and modulo. First valid number is the remainder\n"
     ]
    }
   ],
   "source": [
    "# https://adventofcode.com/2020/day/13\n",
    "\n",
    "rests, mods = (\n",
    "    [0, -27, -37, -45, -54, -56, -66, -68, -81],\n",
    "    [37, 41, 433, 23, 17, 19, 29, 593, 13],\n",
    ")\n",
    "assert crt(rests, mods) == (600691418730595, 1090937521514009)\n",
    "\n",
    "times = [0,-1,-4,-6,-7]\n",
    "mods = [7,13,59,31,19]\n",
    "assert crt(times, mods)[0] == 1068781"
   ]
  },
  {
   "cell_type": "code",
   "execution_count": null,
   "metadata": {},
   "outputs": [
    {
     "name": "stdout",
     "output_type": "stream",
     "text": [
      "Returning remainder and modulo. First valid number is the remainder\n",
      "Returning remainder and modulo. First valid number is the remainder\n",
      "Returning remainder and modulo. First valid number is the remainder\n"
     ]
    }
   ],
   "source": [
    "assert crt((3, 5, 2), (4, 6, 5)) == (47, 60)\n",
    "assert crt((1, 0, 1, 3), (4, 3, 5, 7)) == (381, 420)\n",
    "assert crt((1, 1, 0, 3), (4, 5, 3, 7)) == (381, 420)"
   ]
  },
  {
   "cell_type": "code",
   "execution_count": null,
   "metadata": {},
   "outputs": [],
   "source": [
    "# | export\n",
    "def mul_inv(a, b):\n",
    "    # solves e.g. 40x === 1(mod 7) --> 3\n",
    "    # since 40-35 --> 5x === 1mod(7), if x would be 3, 15 === 1 (mod 7)\n",
    "    # this is called the multiplicative inverse, can also be calculated with pow(a, -1, b)\n",
    "    b0 = b\n",
    "    x0, x1 = 0, 1\n",
    "    if b == 1:\n",
    "        return 1\n",
    "    while a > 1:\n",
    "        q = a // b\n",
    "        a, b = b, a % b\n",
    "        x0, x1 = x1 - q * x0, x0\n",
    "    if x1 < 0:\n",
    "        x1 += b0\n",
    "    return x1"
   ]
  },
  {
   "cell_type": "code",
   "execution_count": null,
   "metadata": {},
   "outputs": [
    {
     "data": {
      "text/plain": [
       "(12, 3)"
      ]
     },
     "execution_count": null,
     "metadata": {},
     "output_type": "execute_result"
    }
   ],
   "source": [
    "assert mul_inv(17, 29) == 12\n",
    "assert mul_inv(40, 7) == 3\n",
    "pow(17,-1,29), pow(40,-1,7)"
   ]
  },
  {
   "cell_type": "code",
   "execution_count": null,
   "metadata": {},
   "outputs": [],
   "source": [
    "# | export\n",
    "\n",
    "# first try at implementing a segment tree\n",
    "class Segment:\n",
    "    def __init__(self, array, func):\n",
    "        self.length = len(array)\n",
    "        self.func = func\n",
    "        self.data = [0] * self.length + array\n",
    "\n",
    "        for idx in range(self.length - 1, -1, -1):\n",
    "            self.data[idx] = self.func(self.data[idx * 2], self.data[idx * 2 + 1])\n",
    "\n",
    "    def update(self, idx, val):\n",
    "        idx += self.length\n",
    "        while idx > 0:\n",
    "            self.data[idx] = self.func(self.data[idx], val)\n",
    "            idx //= 2\n",
    "\n",
    "    def __call__(self, leftidx, rightidx):\n",
    "        self.query(leftidx, rightidx)\n",
    "\n",
    "    def query(self, leftidx, rightidx):\n",
    "        l = leftidx + self.length\n",
    "        r = rightidx + self.length\n",
    "        res = self.data[l]\n",
    "        while l < r:\n",
    "            if l % 2:\n",
    "                res = self.func(res, self.data[l])\n",
    "                l += 1\n",
    "\n",
    "            if r % 2:\n",
    "                res = self.func(res, self.data[r - 1])\n",
    "                r -= 1\n",
    "            l, r = l // 2, r // 2\n",
    "        return res"
   ]
  },
  {
   "cell_type": "code",
   "execution_count": null,
   "metadata": {},
   "outputs": [],
   "source": [
    "array = [1, 2, 3, 0, 10, 100, 5, 5]\n",
    "s = Segment(array, min)"
   ]
  },
  {
   "cell_type": "code",
   "execution_count": null,
   "metadata": {},
   "outputs": [
    {
     "data": {
      "text/plain": [
       "[0, 0, 0, 5, 1, 0, 10, 5, 1, 2, 3, 0, 10, 100, 5, 5]"
      ]
     },
     "execution_count": null,
     "metadata": {},
     "output_type": "execute_result"
    }
   ],
   "source": [
    "s.data\n"
   ]
  },
  {
   "cell_type": "code",
   "execution_count": null,
   "metadata": {},
   "outputs": [
    {
     "data": {
      "text/plain": [
       "[0, 0, 0, 2, 1, 0, 10, 2, 1, 2, 3, 0, 10, 100, 5, 2]"
      ]
     },
     "execution_count": null,
     "metadata": {},
     "output_type": "execute_result"
    }
   ],
   "source": [
    "s.update(7, 2)\n",
    "s.data"
   ]
  },
  {
   "cell_type": "code",
   "execution_count": null,
   "metadata": {},
   "outputs": [
    {
     "name": "stdout",
     "output_type": "stream",
     "text": [
      "[2] [0] [-1, -1, -1, -1, -1, -1, -1]\n",
      "[2, 8] [0, 1] [-1, 0, -1, -1, -1, -1, -1]\n",
      "[2, 8, 9] [0, 1, 2] [-1, 0, 1, -1, -1, -1, -1]\n",
      "[2, 5, 9] [0, 3, 2] [-1, 0, 1, 0, -1, -1, -1]\n",
      "[2, 5, 6] [0, 3, 4] [-1, 0, 1, 0, 3, -1, -1]\n",
      "[2, 5, 6, 7] [0, 3, 4, 5] [-1, 0, 1, 0, 3, 4, -1]\n",
      "[1, 5, 6, 7] [6, 3, 4, 5] [-1, 0, 1, 0, 3, 4, -1]\n"
     ]
    },
    {
     "data": {
      "text/plain": [
       "[2, 5, 6, 7]"
      ]
     },
     "execution_count": null,
     "metadata": {},
     "output_type": "execute_result"
    }
   ],
   "source": [
    "def lis(nums, increase=True):\n",
    "    \"\"\"\n",
    "    Computes the length of the longest in(de)creasing subsequence\n",
    "    Implements https://en.wikipedia.org/wiki/Longest_increasing_subsequence\n",
    "    I don't include it in the module since it's more complex than the next implementation\n",
    "    although it has a better time complexity\n",
    "    \"\"\"\n",
    "    previousidx = [-1] * len(nums)\n",
    "    currentidx = []\n",
    "    current = []\n",
    "\n",
    "    for i, num in enumerate(nums):\n",
    "        idx = bisect_left(current, num)\n",
    "        previousidx[i] = currentidx[idx - 1] if idx else -1\n",
    "        if idx == len(current):\n",
    "            current.append(num)\n",
    "            currentidx.append(i)\n",
    "        else:\n",
    "            current[idx] = num\n",
    "            currentidx[idx] = i\n",
    "        print(current, currentidx, previousidx)\n",
    "    \n",
    "    idxs = [currentidx[-1]]\n",
    "    while previousidx[idxs[-1]] != -1:\n",
    "        idxs.append(previousidx[idxs[-1]])\n",
    "    return list(reversed([nums[idx] for idx in idxs]))\n",
    "\n",
    "nums = [2, 8, 9, 5, 6, 7, 1]\n",
    "lis(nums)"
   ]
  },
  {
   "cell_type": "code",
   "execution_count": null,
   "metadata": {},
   "outputs": [],
   "source": [
    "# | export\n",
    "def lis(nums, func=operator.ge):\n",
    "    \"\"\"\n",
    "    Change the func to change it into longest decreasing subsequence. Or other\n",
    "    Default is operator.ge, which represents longest strictly increasing subsequence\n",
    "    \"\"\"\n",
    "    best = [1] * len(nums)\n",
    "    bestidx = 0\n",
    "    bestlength = 1\n",
    "    parents = {i: False for i in range(len(nums))}\n",
    "    ans = []\n",
    "    for i in range(1, len(nums)):\n",
    "        for j in range(i):\n",
    "            if func(nums[i],nums[j]):\n",
    "                if best[i] < best[j] + 1: # best[i] can be improved\n",
    "                    best[i] = best[j] + 1\n",
    "                    parents[i] = j\n",
    "                    if best[i] > bestlength:\n",
    "                        bestlength = best[i]\n",
    "                        bestidx = i\n",
    "    ans = [nums[bestidx]]\n",
    "    while parents[bestidx] is not False:\n",
    "        bestidx = parents[bestidx]\n",
    "        ans.append(nums[bestidx])\n",
    "    return list(reversed(ans)) "
   ]
  },
  {
   "cell_type": "code",
   "execution_count": null,
   "metadata": {},
   "outputs": [],
   "source": [
    "# | export\n",
    "def angle(a,b):\n",
    "    dx = b[0] - a[0]\n",
    "    dy = b[1] - a[1]\n",
    "    return math.degrees(math.atan2(dx,dy))\n",
    "    \n",
    "\n"
   ]
  },
  {
   "cell_type": "code",
   "execution_count": null,
   "metadata": {},
   "outputs": [
    {
     "data": {
      "text/plain": [
       "153.434948822922"
      ]
     },
     "execution_count": null,
     "metadata": {},
     "output_type": "execute_result"
    }
   ],
   "source": [
    "a = (1,1)\n",
    "b = (2,-1)\n",
    "angle(a,b)"
   ]
  },
  {
   "cell_type": "code",
   "execution_count": null,
   "metadata": {},
   "outputs": [
    {
     "data": {
      "text/plain": [
       "[2, 5, 5, 6, 7]"
      ]
     },
     "execution_count": null,
     "metadata": {},
     "output_type": "execute_result"
    }
   ],
   "source": [
    "nums = [2, 8, 9, 5,5, 6, 7, 1]\n",
    "lis(nums, operator.ge)"
   ]
  },
  {
   "cell_type": "code",
   "execution_count": null,
   "metadata": {},
   "outputs": [],
   "source": [
    "# | export\n",
    "def all_combinations(it, start=None, end=None):\n",
    "    \"\"\"\n",
    "    Returns all combinations from start to end (inclusive).\n",
    "    Defaults to 1, len(end)\n",
    "    \"\"\"\n",
    "    if not start: start = 1\n",
    "    if not end: end = len(it)\n",
    "    assert 0 < start < len(it)\n",
    "    assert start < end\n",
    "    assert 0 < end <= len(it)\n",
    "    for i in range(start, end + 1):\n",
    "        for comb in combinations(it, i):\n",
    "            yield comb"
   ]
  },
  {
   "cell_type": "code",
   "execution_count": null,
   "metadata": {},
   "outputs": [
    {
     "data": {
      "text/plain": [
       "[(1,), (2,), (3,), (1, 2), (1, 3), (2, 3), (1, 2, 3)]"
      ]
     },
     "execution_count": null,
     "metadata": {},
     "output_type": "execute_result"
    }
   ],
   "source": [
    "list(all_combinations([1,2,3],1,3))"
   ]
  },
  {
   "cell_type": "code",
   "execution_count": null,
   "metadata": {},
   "outputs": [],
   "source": [
    "# | export\n",
    "def all_permutations(it, start=None, end=None):\n",
    "    if not start: start = 1\n",
    "    if not end: end = len(it)\n",
    "    assert 0 < start < len(it)\n",
    "    assert start < end\n",
    "    assert 0 < end <= len(it)\n",
    "    for i in range(start, end + 1):\n",
    "        for perm in permutations(it, i):\n",
    "            yield perm"
   ]
  },
  {
   "cell_type": "code",
   "execution_count": null,
   "metadata": {},
   "outputs": [],
   "source": [
    "assert list(all_combinations(range(4),2,3)) == [(0, 1),\n",
    " (0, 2),\n",
    " (0, 3),\n",
    " (1, 2),\n",
    " (1, 3),\n",
    " (2, 3),\n",
    " (0, 1, 2),\n",
    " (0, 1, 3),\n",
    " (0, 2, 3),\n",
    " (1, 2, 3)]"
   ]
  },
  {
   "cell_type": "code",
   "execution_count": null,
   "metadata": {},
   "outputs": [],
   "source": [
    "# | export\n",
    "def mst(edges):\n",
    "    # implements kruskall with unionfind\n",
    "    edges.sort(key=lambda x: (-x[2]))\n",
    "    nodes = set(chain.from_iterable([[a, b] for a, b, cost in edges]))\n",
    "    uf = UnionFind(nodes)\n",
    "    totalcost = 0\n",
    "    while not uf.is_spanning() and edges:\n",
    "        a, b, cost = edges.pop()\n",
    "        if uf.get_parent(a) != uf.get_parent(b):\n",
    "            uf.union(a, b)\n",
    "            totalcost += cost\n",
    "    \n",
    "    return totalcost if uf.is_spanning() else False"
   ]
  },
  {
   "cell_type": "code",
   "execution_count": null,
   "metadata": {},
   "outputs": [],
   "source": [
    "edges = [(1, 2, 3), (1, 3, 5), (2, 3, 1), (0, 1, 10)]\n",
    "assert mst(edges) == 14"
   ]
  },
  {
   "cell_type": "code",
   "execution_count": null,
   "metadata": {},
   "outputs": [],
   "source": []
  }
 ],
 "metadata": {},
 "nbformat": 4,
 "nbformat_minor": 2
}
