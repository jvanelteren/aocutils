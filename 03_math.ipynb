{
 "cells": [
  {
   "cell_type": "code",
   "execution_count": 1,
   "metadata": {},
   "outputs": [],
   "source": [
    "# | default_exp math\n",
    "from nbdev import *\n",
    "from nbdev.showdoc import *"
   ]
  },
  {
   "cell_type": "markdown",
   "metadata": {},
   "source": [
    "# Mathy functions"
   ]
  },
  {
   "cell_type": "code",
   "execution_count": 2,
   "metadata": {},
   "outputs": [],
   "source": [
    "# | exporti\n",
    "from functools import reduce\n",
    "from math import sqrt, gcd\n",
    "from bisect import bisect_left\n",
    "from itertools import combinations, permutations, chain\n",
    "from aocutils.special import UnionFind\n",
    "import heapq"
   ]
  },
  {
   "cell_type": "code",
   "execution_count": 3,
   "metadata": {},
   "outputs": [],
   "source": [
    "# | export\n",
    "def factors(n):\n",
    "    \"\"\"\n",
    "    return set of divisors of a number\n",
    "    \"\"\"\n",
    "    step = 2 if n % 2 else 1\n",
    "    return set(\n",
    "        reduce(\n",
    "            list.__add__,\n",
    "            ([i, n // i] for i in range(1, int(sqrt(n)) + 1, step) if n % i == 0),\n",
    "        )\n",
    "    )"
   ]
  },
  {
   "cell_type": "code",
   "execution_count": 4,
   "metadata": {},
   "outputs": [],
   "source": [
    "assert factors(20) == {1, 2, 4, 5, 10, 20}"
   ]
  },
  {
   "cell_type": "code",
   "execution_count": 5,
   "metadata": {},
   "outputs": [],
   "source": [
    "# | export\n",
    "def gcd(a, b):\n",
    "    largest = max(a, b)\n",
    "    smallest = min(a, b)\n",
    "    if a == b:\n",
    "        return a\n",
    "    if not largest % smallest:\n",
    "        return smallest\n",
    "    while True:\n",
    "        rest = largest % smallest\n",
    "        if rest == 0:\n",
    "            return prevrest\n",
    "        else:\n",
    "            prevrest = rest\n",
    "            largest = smallest\n",
    "            smallest = rest\n",
    "\n",
    "\n",
    "def lcm(a):\n",
    "    lcm = a[0]\n",
    "    for i in a[1:]:\n",
    "        lcm = lcm * i // gcd(lcm, i)\n",
    "    return lcm"
   ]
  },
  {
   "cell_type": "code",
   "execution_count": 6,
   "metadata": {},
   "outputs": [],
   "source": [
    "assert gcd(12, 8) == 4\n",
    "assert gcd(12, 4) == 4\n",
    "assert gcd(12, 12) == 12\n",
    "assert lcm([4, 6, 7]) == 84"
   ]
  },
  {
   "cell_type": "code",
   "execution_count": 7,
   "metadata": {},
   "outputs": [
    {
     "name": "stdout",
     "output_type": "stream",
     "text": [
      "res 9\n"
     ]
    },
    {
     "data": {
      "text/plain": [
       "9"
      ]
     },
     "execution_count": 7,
     "metadata": {},
     "output_type": "execute_result"
    }
   ],
   "source": [
    "def power(a, b, M=None):\n",
    "    # computes a**b. Actually python pow does this with optional third argument\n",
    "    res = 1\n",
    "    while b:\n",
    "        if b % 2 == 1:\n",
    "            res = (res * a) % M if M else res * a\n",
    "            print(\"res\", res)\n",
    "        a *= a\n",
    "        b //= 2\n",
    "    return res\n",
    "\n",
    "\n",
    "power(3, 2)"
   ]
  },
  {
   "cell_type": "code",
   "execution_count": 8,
   "metadata": {},
   "outputs": [],
   "source": [
    "# | export\n",
    "def crt(remainders, moduli):\n",
    "    \"\"\"\n",
    "    Chinese remainder theorem\n",
    "    \"\"\"\n",
    "    cur_rem = remainders[0]\n",
    "    cur_mod = moduli[0]\n",
    "    for rem, mod in zip(remainders[1:], moduli[1:]):\n",
    "        i = 0\n",
    "        while True:\n",
    "            if (cur_rem + i * cur_mod) % mod == rem % mod:\n",
    "                cur_rem += i * cur_mod\n",
    "                cur_mod = lcm((cur_mod, mod))\n",
    "                break\n",
    "            else:\n",
    "                i += 1\n",
    "    print(\"Returning remainder and modulo. First valid number is the remainder\")\n",
    "    return cur_rem, cur_mod"
   ]
  },
  {
   "cell_type": "code",
   "execution_count": 9,
   "metadata": {},
   "outputs": [
    {
     "name": "stdout",
     "output_type": "stream",
     "text": [
      "Returning remainder and modulo. First valid number is the remainder\n"
     ]
    }
   ],
   "source": [
    "rests, mods = (\n",
    "    [0, -27, -37, -45, -54, -56, -66, -68, -81],\n",
    "    [37, 41, 433, 23, 17, 19, 29, 593, 13],\n",
    ")\n",
    "assert crt(rests, mods) == (600691418730595, 1090937521514009)"
   ]
  },
  {
   "cell_type": "code",
   "execution_count": 10,
   "metadata": {},
   "outputs": [
    {
     "name": "stdout",
     "output_type": "stream",
     "text": [
      "Returning remainder and modulo. First valid number is the remainder\n",
      "Returning remainder and modulo. First valid number is the remainder\n",
      "Returning remainder and modulo. First valid number is the remainder\n"
     ]
    }
   ],
   "source": [
    "assert crt((3, 5, 2), (4, 6, 5)) == (47, 60)\n",
    "assert crt((1, 0, 1, 3), (4, 3, 5, 7)) == (381, 420)\n",
    "assert crt((1, 1, 0, 3), (4, 5, 3, 7)) == (381, 420)"
   ]
  },
  {
   "cell_type": "code",
   "execution_count": 11,
   "metadata": {},
   "outputs": [
    {
     "data": {
      "text/plain": [
       "385"
      ]
     },
     "execution_count": 11,
     "metadata": {},
     "output_type": "execute_result"
    }
   ],
   "source": [
    "lcm([5, 7, 11])"
   ]
  },
  {
   "cell_type": "code",
   "execution_count": 12,
   "metadata": {},
   "outputs": [
    {
     "name": "stdout",
     "output_type": "stream",
     "text": [
      "Returning remainder and modulo. First valid number is the remainder\n"
     ]
    },
    {
     "data": {
      "text/plain": [
       "(39, 385)"
      ]
     },
     "execution_count": 12,
     "metadata": {},
     "output_type": "execute_result"
    }
   ],
   "source": [
    "crt([4, 4, 6], [5, 7, 11])"
   ]
  },
  {
   "cell_type": "code",
   "execution_count": 13,
   "metadata": {},
   "outputs": [],
   "source": [
    "# | export\n",
    "def mul_inv(a, b):\n",
    "    # solves e.g. 40x === 1(mod 7) --> 3\n",
    "    # since 40-35 --> 5x === 1mod(7), if x would be 3, 15 === 1 (mod 7)\n",
    "    # this is called the multiplicative inverse\n",
    "    b0 = b\n",
    "    x0, x1 = 0, 1\n",
    "    if b == 1:\n",
    "        return 1\n",
    "    while a > 1:\n",
    "        q = a // b\n",
    "        a, b = b, a % b\n",
    "        x0, x1 = x1 - q * x0, x0\n",
    "    if x1 < 0:\n",
    "        x1 += b0\n",
    "    return x1"
   ]
  },
  {
   "cell_type": "code",
   "execution_count": 14,
   "metadata": {},
   "outputs": [],
   "source": [
    "assert mul_inv(17, 29) == 12\n",
    "assert mul_inv(40, 7) == 3"
   ]
  },
  {
   "cell_type": "code",
   "execution_count": 15,
   "metadata": {},
   "outputs": [],
   "source": [
    "# | export\n",
    "\n",
    "# first try at implementing a segment tree\n",
    "class Segment:\n",
    "    def __init__(self, array, func):\n",
    "        self.length = len(array)\n",
    "        self.func = func\n",
    "        self.data = [0] * self.length + array\n",
    "\n",
    "        for idx in range(self.length - 1, -1, -1):\n",
    "            self.data[idx] = self.func(self.data[idx * 2], self.data[idx * 2 + 1])\n",
    "\n",
    "    def update(self, idx, val):\n",
    "        idx += self.length\n",
    "        while idx > 0:\n",
    "            self.data[idx] = self.func(self.data[idx], val)\n",
    "            idx //= 2\n",
    "\n",
    "    def __call__(self, leftidx, rightidx):\n",
    "        self.query(leftidx, rightidx)\n",
    "\n",
    "    def query(self, leftidx, rightidx):\n",
    "        l = leftidx + self.length\n",
    "        r = rightidx + self.length\n",
    "        res = self.data[l]\n",
    "        while l < r:\n",
    "            if l % 2:\n",
    "                res = self.func(res, self.data[l])\n",
    "                l += 1\n",
    "\n",
    "            if r % 2:\n",
    "                res = self.func(res, self.data[r - 1])\n",
    "                r -= 1\n",
    "            l, r = l // 2, r // 2\n",
    "        return res"
   ]
  },
  {
   "cell_type": "code",
   "execution_count": 16,
   "metadata": {},
   "outputs": [],
   "source": [
    "array = [1, 2, 3, 0, 10, 100, 5, 5]\n",
    "s = Segment(array, min)"
   ]
  },
  {
   "cell_type": "code",
   "execution_count": 17,
   "metadata": {},
   "outputs": [
    {
     "data": {
      "text/plain": [
       "[0, 0, 0, 5, 1, 0, 10, 5, 1, 2, 3, 0, 10, 100, 5, 5]"
      ]
     },
     "execution_count": 17,
     "metadata": {},
     "output_type": "execute_result"
    }
   ],
   "source": [
    "s.data\n"
   ]
  },
  {
   "cell_type": "code",
   "execution_count": 18,
   "metadata": {},
   "outputs": [
    {
     "data": {
      "text/plain": [
       "[0, 0, 0, 2, 1, 0, 10, 2, 1, 2, 3, 0, 10, 100, 5, 2]"
      ]
     },
     "execution_count": 18,
     "metadata": {},
     "output_type": "execute_result"
    }
   ],
   "source": [
    "s.update(7, 2)\n",
    "s.data"
   ]
  },
  {
   "cell_type": "code",
   "execution_count": 19,
   "metadata": {},
   "outputs": [],
   "source": [
    "# | export\n",
    "def lis(nums, increase=True):\n",
    "    \"\"\"\n",
    "    Computes the length of the longest in(de)creasing subsequence\n",
    "    \"\"\"\n",
    "    previous = [-1] * len(nums)\n",
    "    current = []\n",
    "    ans = []\n",
    "\n",
    "    for i, num in enumerate(nums):\n",
    "        idx = bisect_left(current, num)\n",
    "        previous[i] = current[idx - 1] if idx else -1\n",
    "        if idx == len(current):\n",
    "            current.append(num)\n",
    "            ans.append(num)\n",
    "        else:\n",
    "            current[idx] = num\n",
    "        print(current)\n",
    "\n",
    "    return ans"
   ]
  },
  {
   "cell_type": "code",
   "execution_count": 20,
   "metadata": {},
   "outputs": [
    {
     "name": "stdout",
     "output_type": "stream",
     "text": [
      "[2]\n",
      "[2, 5]\n",
      "[2, 3]\n",
      "[2, 3, 4]\n",
      "[0, 3, 4]\n"
     ]
    },
    {
     "data": {
      "text/plain": [
       "[2, 5, 4]"
      ]
     },
     "execution_count": 20,
     "metadata": {},
     "output_type": "execute_result"
    }
   ],
   "source": [
    "lis([2, 5, 3, 4, 0])"
   ]
  },
  {
   "cell_type": "code",
   "execution_count": 21,
   "metadata": {},
   "outputs": [
    {
     "name": "stdout",
     "output_type": "stream",
     "text": [
      "[2]\n",
      "[2, 5]\n",
      "[2, 3]\n",
      "[2, 3, 4]\n"
     ]
    },
    {
     "data": {
      "text/plain": [
       "[2, 5, 4]"
      ]
     },
     "execution_count": 21,
     "metadata": {},
     "output_type": "execute_result"
    }
   ],
   "source": [
    "lis([2, 5, 3, 4])"
   ]
  },
  {
   "cell_type": "code",
   "execution_count": null,
   "metadata": {},
   "outputs": [],
   "source": []
  },
  {
   "cell_type": "code",
   "execution_count": 22,
   "metadata": {},
   "outputs": [],
   "source": [
    "# | export\n",
    "def all_combinations(it, n=None):\n",
    "    if not n:\n",
    "        n = len(it) - 1\n",
    "    for i in range(1, n + 1):\n",
    "        for comb in combinations(it, i):\n",
    "            yield comb"
   ]
  },
  {
   "cell_type": "code",
   "execution_count": 23,
   "metadata": {},
   "outputs": [],
   "source": [
    "# | export\n",
    "def all_permutations(it, n=None):\n",
    "    if not n:\n",
    "        n = len(it) - 1\n",
    "    for i in range(1, n + 1):\n",
    "        for perm in permutations(it, i):\n",
    "            yield perm"
   ]
  },
  {
   "cell_type": "code",
   "execution_count": 24,
   "metadata": {},
   "outputs": [
    {
     "data": {
      "text/plain": [
       "[(0,), (1,), (2,), (3,), (0, 1), (0, 2), (0, 3), (1, 2), (1, 3), (2, 3)]"
      ]
     },
     "execution_count": 24,
     "metadata": {},
     "output_type": "execute_result"
    }
   ],
   "source": [
    "list(all_combinations(range(4), 2))"
   ]
  },
  {
   "cell_type": "code",
   "execution_count": null,
   "metadata": {},
   "outputs": [],
   "source": []
  },
  {
   "cell_type": "code",
   "execution_count": 25,
   "metadata": {},
   "outputs": [
    {
     "name": "stdout",
     "output_type": "stream",
     "text": [
      "{0, 1, 2, 3}\n"
     ]
    },
    {
     "data": {
      "text/plain": [
       "10"
      ]
     },
     "execution_count": 25,
     "metadata": {},
     "output_type": "execute_result"
    }
   ],
   "source": [
    "edges = [(1, 2, 3), (1, 3, 5), (2, 3, 0), (0, 1, 10)]\n",
    "costs = []\n",
    "nodes = set()\n",
    "totalcost = 0\n",
    "for a, b, cost in edges:\n",
    "    heapq.heappush(costs, (cost, a, b))\n",
    "    nodes.add(a)\n",
    "    nodes.add(b)\n",
    "print(nodes)\n",
    "while nodes:\n",
    "    cost, a, b = heapq.heappop(costs)\n",
    "    if a in nodes or b in nodes:\n",
    "        nodes.discard(a)\n",
    "        nodes.discard(b)\n",
    "        totalcost += cost\n",
    "cost"
   ]
  },
  {
   "cell_type": "code",
   "execution_count": null,
   "metadata": {},
   "outputs": [],
   "source": []
  },
  {
   "cell_type": "code",
   "execution_count": 26,
   "metadata": {},
   "outputs": [
    {
     "data": {
      "text/plain": [
       "14"
      ]
     },
     "execution_count": 26,
     "metadata": {},
     "output_type": "execute_result"
    }
   ],
   "source": [
    "def mst(edges):\n",
    "    # implements kruskall with unionfind\n",
    "    edges.sort(key=lambda x: (-x[2]))\n",
    "    nodes = set(chain.from_iterable([[a, b] for a, b, cost in edges]))\n",
    "\n",
    "    uf = UnionFind(nodes)\n",
    "    totalcost = 0\n",
    "    while not uf.is_spanning():\n",
    "        a, b, cost = edges.pop()\n",
    "        if uf.get_parent(a) != uf.get_parent(b):\n",
    "            uf.union(a, b)\n",
    "            totalcost += cost\n",
    "    return totalcost\n",
    "\n",
    "\n",
    "edges = [(1, 2, 3), (1, 3, 5), (2, 3, 1), (0, 1, 10)]\n",
    "mst(edges)"
   ]
  },
  {
   "cell_type": "code",
   "execution_count": 27,
   "metadata": {},
   "outputs": [
    {
     "data": {
      "text/plain": [
       "{0, 1, 2, 3}"
      ]
     },
     "execution_count": 27,
     "metadata": {},
     "output_type": "execute_result"
    }
   ],
   "source": [
    "from itertools import chain\n",
    "\n",
    "edges = [(1, 2, 3), (1, 3, 5), (2, 3, 1), (0, 1, 10)]\n",
    "test = [[a, b] for a, b, c in edges]\n",
    "set(chain.from_iterable(test))"
   ]
  },
  {
   "cell_type": "code",
   "execution_count": null,
   "metadata": {},
   "outputs": [],
   "source": []
  }
 ],
 "metadata": {
  "kernelspec": {
   "display_name": "Python 3.10.0 ('.aocenv': venv)",
   "language": "python",
   "name": "python3"
  },
  "language_info": {
   "codemirror_mode": {
    "name": "ipython",
    "version": 3
   },
   "file_extension": ".py",
   "mimetype": "text/x-python",
   "name": "python",
   "nbconvert_exporter": "python",
   "pygments_lexer": "ipython3",
   "version": "3.10.0"
  },
  "vscode": {
   "interpreter": {
    "hash": "a292fecb04ead1807198b22395dbb599f43710a25b8e4823a30fedd04cdfd0f2"
   }
  }
 },
 "nbformat": 4,
 "nbformat_minor": 2
}
