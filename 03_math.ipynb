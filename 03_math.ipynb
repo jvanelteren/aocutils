{
 "cells": [
  {
   "cell_type": "code",
   "execution_count": null,
   "metadata": {},
   "outputs": [],
   "source": [
    "#| default_exp math\n",
    "from nbdev import *\n",
    "from nbdev.showdoc import *"
   ]
  },
  {
   "cell_type": "markdown",
   "metadata": {},
   "source": [
    "# Advent of Code Utils\n",
    "\n",
    "> A collection of somewhat handy functions to make your AoC puzzle life solving a bit easier"
   ]
  },
  {
   "cell_type": "code",
   "execution_count": null,
   "metadata": {},
   "outputs": [],
   "source": [
    "#| exporti\n",
    "from functools import reduce\n",
    "from math import sqrt, gcd\n"
   ]
  },
  {
   "cell_type": "markdown",
   "metadata": {},
   "source": [
    "## Mathy functions"
   ]
  },
  {
   "cell_type": "code",
   "execution_count": null,
   "metadata": {},
   "outputs": [],
   "source": [
    "#| export\n",
    "def factors(n):\n",
    "    \"\"\"\n",
    "     return set of divisors of a number\n",
    "    \"\"\"\n",
    "    step = 2 if n % 2 else 1\n",
    "    return set(reduce(list.__add__,\n",
    "                ([i, n//i] for i in range(1, int(sqrt(n))+1, step) if n % i == 0)))\n"
   ]
  },
  {
   "cell_type": "code",
   "execution_count": null,
   "metadata": {},
   "outputs": [],
   "source": [
    "assert factors(20) == {1, 2, 4, 5, 10, 20}\n"
   ]
  },
  {
   "cell_type": "code",
   "execution_count": null,
   "metadata": {},
   "outputs": [],
   "source": [
    "#| export\n",
    "def gcd(a,b):\n",
    "    largest = max(a,b)\n",
    "    smallest = min(a,b)\n",
    "    if a == b: \n",
    "        return a\n",
    "    if not largest % smallest:\n",
    "        return smallest\n",
    "    while True:\n",
    "        rest = largest % smallest\n",
    "        if rest == 0:\n",
    "            return prevrest\n",
    "        else:\n",
    "            prevrest = rest\n",
    "            largest = smallest\n",
    "            smallest = rest\n",
    "\n",
    "def lcm(a):\n",
    "    lcm = a[0]\n",
    "    for i in a[1:]:\n",
    "        lcm = lcm*i//gcd(lcm, i)\n",
    "    return lcm\n",
    "\n"
   ]
  },
  {
   "cell_type": "code",
   "execution_count": null,
   "metadata": {},
   "outputs": [],
   "source": [
    "assert gcd(12,8) == 4\n",
    "assert gcd(12,4) == 4\n",
    "assert gcd(12,12) == 12\n",
    "assert lcm([4,6,7]) == 84\n"
   ]
  },
  {
   "cell_type": "code",
   "execution_count": null,
   "metadata": {},
   "outputs": [
    {
     "name": "stdout",
     "output_type": "stream",
     "text": [
      "res 9\n"
     ]
    },
    {
     "data": {
      "text/plain": [
       "9"
      ]
     },
     "execution_count": null,
     "metadata": {},
     "output_type": "execute_result"
    }
   ],
   "source": [
    "def power(a,b,M=None):\n",
    "    # computes a**b. Actually python pow does this with optional third argument\n",
    "    res = 1\n",
    "    while(b):\n",
    "        if b % 2 == 1: \n",
    "            res = (res * a) % M if M else res * a\n",
    "            print('res',res)\n",
    "        a *= a\n",
    "        b //= 2\n",
    "    return res\n",
    "power(3,2)"
   ]
  },
  {
   "cell_type": "code",
   "execution_count": null,
   "metadata": {},
   "outputs": [],
   "source": [
    "#| export \n",
    "def crt(remainders, moduli):\n",
    "    \"\"\"\n",
    "        Chinese remainder theorem\n",
    "    \"\"\"\n",
    "    cur_rem = remainders[0]\n",
    "    cur_mod = moduli[0]\n",
    "    for rem, mod in zip(remainders[1:], moduli[1:]):\n",
    "        i = 0\n",
    "        while True:\n",
    "            if (cur_rem + i * cur_mod) % mod == rem % mod:\n",
    "                cur_rem += i * cur_mod\n",
    "                cur_mod = lcm((cur_mod, mod))\n",
    "                break\n",
    "            else:\n",
    "                i+=1\n",
    "    print('Returning remainder and modulo. First valid number is the remainder')\n",
    "    return cur_rem, cur_mod"
   ]
  },
  {
   "cell_type": "code",
   "execution_count": null,
   "metadata": {},
   "outputs": [
    {
     "name": "stdout",
     "output_type": "stream",
     "text": [
      "Returning remainder and modulo. First valid number is the remainder\n"
     ]
    }
   ],
   "source": [
    "rests, mods = ([0, -27, -37, -45, -54, -56, -66, -68, -81], [37, 41, 433, 23, 17, 19, 29, 593, 13])\n",
    "assert crt(rests, mods) == (600691418730595, 1090937521514009)"
   ]
  },
  {
   "cell_type": "code",
   "execution_count": null,
   "metadata": {},
   "outputs": [
    {
     "name": "stdout",
     "output_type": "stream",
     "text": [
      "Returning remainder and modulo. First valid number is the remainder\n",
      "Returning remainder and modulo. First valid number is the remainder\n",
      "Returning remainder and modulo. First valid number is the remainder\n"
     ]
    }
   ],
   "source": [
    "assert crt((3,5,2), (4,6,5)) == (47, 60)\n",
    "assert crt((1,0,1,3), (4,3,5,7)) == (381, 420)\n",
    "assert crt((1,1,0,3), (4,5,3,7)) == (381, 420)"
   ]
  },
  {
   "cell_type": "code",
   "execution_count": null,
   "metadata": {},
   "outputs": [
    {
     "data": {
      "text/plain": [
       "385"
      ]
     },
     "execution_count": null,
     "metadata": {},
     "output_type": "execute_result"
    }
   ],
   "source": [
    "lcm([5,7,11])"
   ]
  },
  {
   "cell_type": "code",
   "execution_count": null,
   "metadata": {},
   "outputs": [
    {
     "name": "stdout",
     "output_type": "stream",
     "text": [
      "Returning remainder and modulo. First valid number is the remainder\n"
     ]
    },
    {
     "data": {
      "text/plain": [
       "(39, 385)"
      ]
     },
     "execution_count": null,
     "metadata": {},
     "output_type": "execute_result"
    }
   ],
   "source": [
    "crt([4,4,6], [5,7,11])"
   ]
  },
  {
   "cell_type": "code",
   "execution_count": null,
   "metadata": {},
   "outputs": [],
   "source": [
    "#| export\n",
    "def mul_inv(a, b):\n",
    "    # solves e.g. 40x === 1(mod 7) --> 3\n",
    "    # since 40-35 --> 5x === 1mod(7), if x would be 3, 15 === 1 (mod 7)\n",
    "    # this is called the multiplicative inverse\n",
    "    b0 = b\n",
    "    x0, x1 = 0, 1\n",
    "    if b == 1: return 1\n",
    "    while a > 1:\n",
    "        q = a // b\n",
    "        a, b = b, a%b\n",
    "        x0, x1 = x1 - q * x0, x0\n",
    "    if x1 < 0: x1 += b0\n",
    "    return x1"
   ]
  },
  {
   "cell_type": "code",
   "execution_count": null,
   "metadata": {},
   "outputs": [],
   "source": [
    "assert mul_inv(17,29) == 12\n",
    "assert mul_inv(40,7) == 3"
   ]
  },
  {
   "cell_type": "code",
   "execution_count": null,
   "metadata": {},
   "outputs": [],
   "source": [
    "# first try at implementing a segment tree\n",
    "class Segment():\n",
    "    def __init__(self, array, func):\n",
    "        self.length = len(array)\n",
    "        self.func = func\n",
    "        self.data = [0] * self.length + array\n",
    "        \n",
    "        for idx in range(self.length - 1, -1, -1):\n",
    "            self.data[idx] = self.func(self.data[idx * 2], self.data[idx * 2 + 1])\n",
    "    def update(self, idx, val):\n",
    "        idx += self.length\n",
    "        while idx > 0:\n",
    "            self.data[idx] = self.func(self.data[idx], val)\n",
    "            idx //= 2\n",
    "    def __call__(self, leftidx, rightidx):\n",
    "        self.query(leftidx, rightidx)\n",
    "                \n",
    "    def query(self, leftidx, rightidx):\n",
    "        l = leftidx + self.length\n",
    "        r = rightidx + self.length\n",
    "        res = self.data[l]\n",
    "        while l < r:\n",
    "            if l % 2:\n",
    "                res = self.func(res, self.data[l])\n",
    "                l += 1\n",
    "                \n",
    "            if r % 2:\n",
    "                res = self.func(res, self.data[r-1])\n",
    "                r -= 1\n",
    "            l, r = l // 2, r // 2\n",
    "        return res"
   ]
  },
  {
   "cell_type": "code",
   "execution_count": null,
   "metadata": {},
   "outputs": [],
   "source": [
    "array = [1,2,3,0,10,100,5,5]\n",
    "s = Segment(array, min)"
   ]
  },
  {
   "cell_type": "code",
   "execution_count": null,
   "metadata": {},
   "outputs": [
    {
     "data": {
      "text/plain": [
       "[0, 0, 0, 5, 1, 0, 10, 5, 1, 2, 3, 0, 10, 100, 5, 5]"
      ]
     },
     "execution_count": null,
     "metadata": {},
     "output_type": "execute_result"
    }
   ],
   "source": [
    "s.data"
   ]
  },
  {
   "cell_type": "code",
   "execution_count": null,
   "metadata": {},
   "outputs": [],
   "source": [
    "s.update(7,2)"
   ]
  },
  {
   "cell_type": "code",
   "execution_count": null,
   "metadata": {},
   "outputs": [
    {
     "data": {
      "text/plain": [
       "[0, 0, 0, 2, 1, 0, 10, 2, 1, 2, 3, 0, 10, 100, 5, 2]"
      ]
     },
     "execution_count": null,
     "metadata": {},
     "output_type": "execute_result"
    }
   ],
   "source": [
    "s.data"
   ]
  },
  {
   "cell_type": "code",
   "execution_count": null,
   "metadata": {},
   "outputs": [
    {
     "data": {
      "text/plain": [
       "2"
      ]
     },
     "execution_count": null,
     "metadata": {},
     "output_type": "execute_result"
    }
   ],
   "source": [
    "s.query(5,8)"
   ]
  },
  {
   "cell_type": "code",
   "execution_count": null,
   "metadata": {},
   "outputs": [],
   "source": []
  },
  {
   "cell_type": "code",
   "execution_count": null,
   "metadata": {},
   "outputs": [
    {
     "data": {
      "text/plain": [
       "0"
      ]
     },
     "execution_count": null,
     "metadata": {},
     "output_type": "execute_result"
    }
   ],
   "source": [
    "from math import comb\n",
    "comb(4,5)"
   ]
  },
  {
   "cell_type": "code",
   "execution_count": null,
   "metadata": {},
   "outputs": [],
   "source": []
  }
 ],
 "metadata": {
  "kernelspec": {
   "display_name": "Python 3.10.0 64-bit",
   "language": "python",
   "name": "python3"
  }
 },
 "nbformat": 4,
 "nbformat_minor": 2
}
